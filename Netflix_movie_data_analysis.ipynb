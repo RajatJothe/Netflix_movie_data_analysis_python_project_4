{
 "cells": [
  {
   "cell_type": "markdown",
   "id": "21c5e44b",
   "metadata": {},
   "source": [
    "### Netflix data analysis"
   ]
  },
  {
   "cell_type": "code",
   "execution_count": 100,
   "id": "395d2221",
   "metadata": {},
   "outputs": [],
   "source": [
    "import numpy as np\n",
    "import pandas as pd \n",
    "import matplotlib.pyplot as plt\n",
    "import seaborn as sns"
   ]
  },
  {
   "cell_type": "code",
   "execution_count": 101,
   "id": "c5b96733",
   "metadata": {},
   "outputs": [
    {
     "data": {
      "application/vnd.microsoft.datawrangler.viewer.v0+json": {
       "columns": [
        {
         "name": "index",
         "rawType": "int64",
         "type": "integer"
        },
        {
         "name": "Release_Date",
         "rawType": "object",
         "type": "string"
        },
        {
         "name": "Title",
         "rawType": "object",
         "type": "string"
        },
        {
         "name": "Overview",
         "rawType": "object",
         "type": "string"
        },
        {
         "name": "Popularity",
         "rawType": "float64",
         "type": "float"
        },
        {
         "name": "Vote_Count",
         "rawType": "int64",
         "type": "integer"
        },
        {
         "name": "Vote_Average",
         "rawType": "float64",
         "type": "float"
        },
        {
         "name": "Original_Language",
         "rawType": "object",
         "type": "string"
        },
        {
         "name": "Genre",
         "rawType": "object",
         "type": "string"
        },
        {
         "name": "Poster_Url",
         "rawType": "object",
         "type": "string"
        }
       ],
       "ref": "44a705f1-2803-48fb-81f4-50ca56fce9b7",
       "rows": [
        [
         "0",
         "2021-12-15",
         "Spider-Man: No Way Home",
         "Peter Parker is unmasked and no longer able to separate his normal life from the high-stakes of being a super-hero. When he asks for help from Doctor Strange the stakes become even more dangerous, forcing him to discover what it truly means to be Spider-Man.",
         "5083.954",
         "8940",
         "8.3",
         "en",
         "Action, Adventure, Science Fiction",
         "https://image.tmdb.org/t/p/original/1g0dhYtq4irTY1GPXvft6k4YLjm.jpg"
        ],
        [
         "1",
         "2022-03-01",
         "The Batman",
         "In his second year of fighting crime, Batman uncovers corruption in Gotham City that connects to his own family while facing a serial killer known as the Riddler.",
         "3827.658",
         "1151",
         "8.1",
         "en",
         "Crime, Mystery, Thriller",
         "https://image.tmdb.org/t/p/original/74xTEgt7R36Fpooo50r9T25onhq.jpg"
        ],
        [
         "2",
         "2022-02-25",
         "No Exit",
         "Stranded at a rest stop in the mountains during a blizzard, a recovering addict discovers a kidnapped child hidden in a car belonging to one of the people inside the building which sets her on a terrifying struggle to identify who among them is the kidnapper.",
         "2618.087",
         "122",
         "6.3",
         "en",
         "Thriller",
         "https://image.tmdb.org/t/p/original/vDHsLnOWKlPGmWs0kGfuhNF4w5l.jpg"
        ],
        [
         "3",
         "2021-11-24",
         "Encanto",
         "The tale of an extraordinary family, the Madrigals, who live hidden in the mountains of Colombia, in a magical house, in a vibrant town, in a wondrous, charmed place called an Encanto. The magic of the Encanto has blessed every child in the family with a unique gift from super strength to the power to heal—every child except one, Mirabel. But when she discovers that the magic surrounding the Encanto is in danger, Mirabel decides that she, the only ordinary Madrigal, might just be her exceptional family's last hope.",
         "2402.201",
         "5076",
         "7.7",
         "en",
         "Animation, Comedy, Family, Fantasy",
         "https://image.tmdb.org/t/p/original/4j0PNHkMr5ax3IA8tjtxcmPU3QT.jpg"
        ],
        [
         "4",
         "2021-12-22",
         "The King's Man",
         "As a collection of history's worst tyrants and criminal masterminds gather to plot a war to wipe out millions, one man must race against time to stop them.",
         "1895.511",
         "1793",
         "7.0",
         "en",
         "Action, Adventure, Thriller, War",
         "https://image.tmdb.org/t/p/original/aq4Pwv5Xeuvj6HZKtxyd23e6bE9.jpg"
        ],
        [
         "5",
         "2022-01-07",
         "The Commando",
         "An elite DEA agent returns home after a failed mission when his family makes an unexpected discovery in their house – a stash of money worth $3 million. They soon face the danger and threat of a newly released criminal and his crew, who will do whatever it takes to retrieve the money, including kidnap the agent’s daughters. Stakes are high and lives are at risk in this head-to-head battle as the agent stops at nothing to protect his family against the money-hungry criminals.",
         "1750.484",
         "33",
         "6.6",
         "en",
         "Action, Crime, Thriller",
         "https://image.tmdb.org/t/p/original/pSh8MyYu5CmfyWEHzv8FEARH2zq.jpg"
        ],
        [
         "6",
         "2022-01-12",
         "Scream",
         "Twenty-five years after a streak of brutal murders shocked the quiet town of Woodsboro, a new killer has donned the Ghostface mask and begins targeting a group of teenagers to resurrect secrets from the town’s deadly past.",
         "1675.161",
         "821",
         "6.8",
         "en",
         "Horror, Mystery, Thriller",
         "https://image.tmdb.org/t/p/original/kZNHR1upJKF3eTzdgl5V8s8a4C3.jpg"
        ],
        [
         "7",
         "2022-02-10",
         "Kimi",
         "A tech worker with agoraphobia discovers recorded evidence of a violent crime but is met with resistance when she tries to report it. Seeking justice, she must do the thing she fears the most: she must leave her apartment.",
         "1601.782",
         "206",
         "6.3",
         "en",
         "Thriller",
         "https://image.tmdb.org/t/p/original/okNgwtxIWzGsNlR3GsOS0i0Qgbn.jpg"
        ],
        [
         "8",
         "2022-02-17",
         "Fistful of Vengeance",
         "A revenge mission becomes a fight to save the world from an ancient threat when superpowered assassin Kai tracks a killer to Bangkok.",
         "1594.013",
         "114",
         "5.3",
         "en",
         "Action, Crime, Fantasy",
         "https://image.tmdb.org/t/p/original/3cccEF9QZgV9bLWyupJO41HSrOV.jpg"
        ],
        [
         "9",
         "2021-11-03",
         "Eternals",
         "The Eternals are a team of ancient aliens who have been living on Earth in secret for thousands of years. When an unexpected tragedy forces them out of the shadows, they are forced to reunite against mankind’s most ancient enemy, the Deviants.",
         "1537.406",
         "4726",
         "7.2",
         "en",
         "Science Fiction",
         "https://image.tmdb.org/t/p/original/zByhtBvX99ZiCQhac1sh9d9r6nb.jpg"
        ],
        [
         "10",
         "2022-02-18",
         "Pursuit",
         "Detective Breslin crosses paths with Calloway, a ruthless hacker desperate to find his wife, who has been kidnapped by a drug cartel. When Calloway escapes police custody, Breslin joins forces with a no-nonsense female cop to reclaim his prisoner. But is Calloway’s crime-boss father somehow involved in this explosive situation?",
         "1500.523",
         "16",
         "5.9",
         "en",
         "Action, Crime, Thriller",
         "https://image.tmdb.org/t/p/original/wYihSXWYqN8Ejsdut2P1P0o97N0.jpg"
        ],
        [
         "11",
         "2021-08-06",
         "My Hero Academia: World Heroes' Mission",
         "A mysterious group called Humarize strongly believes in the Quirk Singularity Doomsday theory which states that when quirks get mixed further in with future generations, that power will bring forth the end of humanity. In order to save everyone, the Pro-Heroes around the world ask UA Academy heroes-in-training to assist them and form a world-classic selected hero team. It is up to the heroes to save the world and the future of heroes in what is the most dangerous crisis to take place yet in My Hero Academia.",
         "1485.064",
         "100",
         "7.3",
         "ja",
         "Animation, Action, Fantasy, Adventure",
         "https://image.tmdb.org/t/p/original/4NUzcKtYPKkfTwKsLjwNt8nRIXV.jpg"
        ],
        [
         "12",
         "2022-02-25",
         "Restless",
         "After going to extremes to cover up an accident, a corrupt cop's life spirals out of control when he starts receiving threats from a mysterious witness.",
         "1468.377",
         "107",
         "5.9",
         "fr",
         "Action, Thriller, Crime",
         "https://image.tmdb.org/t/p/original/aw4GGsRwhQtyLsjzC7dsAahfCDY.jpg"
        ],
        [
         "13",
         "2021-12-02",
         "Nightmare Alley",
         "An ambitious carnival man with a talent for manipulating people with a few well-chosen words hooks up with a female psychiatrist who is even more dangerous than he is.",
         "1455.144",
         "952",
         "7.1",
         "en",
         "Crime, Drama, Thriller",
         "https://image.tmdb.org/t/p/original/680klE0dIreQQOyWKFgNnCAJtws.jpg"
        ],
        [
         "14",
         "2022-01-28",
         "The Ice Age Adventures of Buck Wild",
         "The fearless one-eyed weasel Buck teams up with mischievous possum brothers Crash & Eddie as they head off on a new adventure into Buck's home: The Dinosaur World.",
         "1431.307",
         "737",
         "7.1",
         "en",
         "Animation, Comedy, Adventure, Family",
         "https://image.tmdb.org/t/p/original/zzXFM4FKDG7l1ufrAkwQYv2xvnh.jpg"
        ],
        [
         "15",
         "2022-02-25",
         "Hotel Transylvania: Transformania",
         "When Van Helsing's mysterious invention, the \"Monsterfication Ray,\" goes haywire, Drac and his monster pals are all transformed into humans, and Johnny becomes a monster. In their new mismatched bodies, Drac and Johnny must team up and race across the globe to find a cure before it's too late, and before they drive each other crazy.",
         "1373.778",
         "288",
         "7.0",
         "en",
         "Animation, Family, Fantasy, Comedy, Adventure",
         "https://image.tmdb.org/t/p/original/teCy1egGQa0y8ULJvlrDHQKnxBL.jpg"
        ],
        [
         "16",
         "2022-02-18",
         "Texas Chainsaw Massacre",
         "In this sequel, influencers looking to breathe new life into a Texas ghost town encounter Leatherface, an infamous killer who wears a mask of human skin.",
         "1312.79",
         "521",
         "5.1",
         "en",
         "Horror",
         "https://image.tmdb.org/t/p/original/meRIRfADEGVo65xgPO6eZvJ0CRG.jpg"
        ],
        [
         "17",
         "2022-01-28",
         "The Requin",
         "A couple on a romantic getaway find themselves stranded at sea when a tropical storm sweeps away their villa. In order to survive, they are forced to fight the elements, while sharks circle below.",
         "1252.317",
         "65",
         "4.6",
         "en",
         "Thriller",
         "https://image.tmdb.org/t/p/original/i0z8g2VRZP3dhVvvSMilbOZMKqR.jpg"
        ],
        [
         "18",
         "2022-02-04",
         "Looop Lapeta",
         "When her boyfriend loses a mobster's cash, Savi races against the clock to save the day — if only she can break out of a curious cycle of dead ends.",
         "1240.946",
         "31",
         "6.0",
         "hi",
         "Action, Comedy, Crime",
         "https://image.tmdb.org/t/p/original/onGdT8sYi89drvSJyEJnft97rOq.jpg"
        ],
        [
         "19",
         "2021-11-04",
         "Red Notice",
         "An Interpol-issued Red Notice is a global alert to hunt and capture the world's most wanted. But when a daring heist brings together the FBI's top profiler and two rival criminals, there's no telling what will happen.",
         "1178.544",
         "3193",
         "6.8",
         "en",
         "Action, Comedy, Crime, Thriller",
         "https://image.tmdb.org/t/p/original/lAXONuqg41NwUMuzMiFvicDET9Y.jpg"
        ],
        [
         "20",
         "2021-12-01",
         "Sing 2",
         "Buster and his new cast now have their sights set on debuting a new show at the Crystal Tower Theater in glamorous Redshore City. But with no connections, he and his singers must sneak into the Crystal Entertainment offices, run by the ruthless wolf mogul Jimmy Crystal, where the gang pitches the ridiculous idea of casting the lion rock legend Clay Calloway in their show. Buster must embark on a quest to find the now-isolated Clay and persuade him to return to the stage.",
         "1112.9",
         "2172",
         "8.2",
         "en",
         "Animation, Comedy, Family, Music",
         "https://image.tmdb.org/t/p/original/aWeKITRFbbwY8txG5uCj4rMCfSP.jpg"
        ],
        [
         "21",
         "2022-01-03",
         "The Jack in the Box: Awakening",
         "When a vintage Jack-in-the-box is opened by a dying woman, she enters into a deal with the demon within that would see her illness cured in return for helping it claim six innocent victims.",
         "1096.79",
         "43",
         "5.4",
         "en",
         "Horror",
         "https://image.tmdb.org/t/p/original/3Ib8vlWTrAKRrTWUrTrZPOMW4jp.jpg"
        ],
        [
         "22",
         "2021-09-30",
         "Venom: Let There Be Carnage",
         "After finding a host body in investigative reporter Eddie Brock, the alien symbiote must face a new enemy, Carnage, the alter ego of serial killer Cletus Kasady.",
         "1053.615",
         "6539",
         "7.1",
         "en",
         "Science Fiction, Action, Adventure",
         "https://image.tmdb.org/t/p/original/rjkmN1dniUHVYAtwuV3Tji7FsDO.jpg"
        ],
        [
         "23",
         "2021-12-16",
         "The Matrix Resurrections",
         "Plagued by strange memories, Neo's life takes an unexpected turn when he finds himself back inside the Matrix.",
         "941.024",
         "3160",
         "6.8",
         "en",
         "Science Fiction, Action, Adventure",
         "https://image.tmdb.org/t/p/original/8c4a8kE7PizaGQQnditMmI1xbRp.jpg"
        ],
        [
         "24",
         "2021-11-24",
         "Resident Evil: Welcome to Raccoon City",
         "Once the booming home of pharmaceutical giant Umbrella Corporation, Raccoon City is now a dying Midwestern town. The company’s exodus left the city a wasteland…with great evil brewing below the surface. When that evil is unleashed, the townspeople are forever…changed…and a small group of survivors must work together to uncover the truth behind Umbrella and make it through the night.",
         "881.086",
         "1312",
         "6.1",
         "en",
         "Horror, Action, Science Fiction",
         "https://image.tmdb.org/t/p/original/7uRbWOXxpWDMtnsd2PF3clu65jc.jpg"
        ],
        [
         "25",
         "2021-10-19",
         "Last Man Down",
         "After civilization succumbs to a deadly pandemic and his wife is murdered, a special forces soldier abandons his duty and becomes a hermit in the Nordic wilderness. Years later, a wounded woman appears on his doorstep. She's escaped from a lab and her pursuers believe her blood is the key to a worldwide cure. He's hesitant to get involved, but all doubts are cast aside when he discovers her pursuer is none other than Commander Stone, the man that murdered his wife some years ago.",
         "869.605",
         "318",
         "6.3",
         "en",
         "Action, Thriller",
         "https://image.tmdb.org/t/p/original/4B7liCxNCZIZGONmAMkCnxVlZQV.jpg"
        ],
        [
         "26",
         "2022-01-07",
         "American Siege",
         "An ex-NYPD officer-turned-sheriff of a small rural Georgia town has to contend with a gang of thieves who have taken a wealthy doctor hostage.",
         "867.326",
         "49",
         "5.4",
         "en",
         "Action, Thriller, Crime, Drama",
         "https://image.tmdb.org/t/p/original/daeVrgyj0ue8qb3AHyU3UeCwoZz.jpg"
        ],
        [
         "27",
         "2022-02-10",
         "Uncharted",
         "A young street-smart, Nathan Drake and his wisecracking partner Victor “Sully” Sullivan embark on a dangerous pursuit of “the greatest treasure never found” while also tracking clues that may lead to Nathan’s long-lost brother.",
         "866.391",
         "691",
         "7.1",
         "en",
         "Action, Adventure",
         "https://image.tmdb.org/t/p/original/sqLowacltbZLoCa4KYye64RvvdQ.jpg"
        ],
        [
         "28",
         "2020-10-16",
         "Demon Slayer -Kimetsu no Yaiba- The Movie: Mugen Train",
         "Tanjirō Kamado, joined with Inosuke Hashibira, a boy raised by boars who wears a boar's head, and Zenitsu Agatsuma, a scared boy who reveals his true power when he sleeps, boards the Infinity Train on a new mission with the Fire Hashira, Kyōjurō Rengoku, to defeat a demon who has been tormenting the people and killing the demon slayers who oppose it!",
         "845.992",
         "2224",
         "8.4",
         "ja",
         "Animation, Action, Adventure, Fantasy",
         "https://image.tmdb.org/t/p/original/h8Rb9gBr48ODIwYUttZNYeMWeUU.jpg"
        ],
        [
         "29",
         "2021-11-11",
         "Ghostbusters: Afterlife",
         "When a single mom and her two kids arrive in a small town, they begin to discover their connection to the original Ghostbusters and the secret legacy their grandfather left behind.",
         "839.904",
         "2225",
         "7.7",
         "en",
         "Fantasy, Comedy, Adventure",
         "https://image.tmdb.org/t/p/original/sg4xJaufDiQl7caFEskBtQXfD4x.jpg"
        ],
        [
         "30",
         "2022-01-05",
         "The 355",
         "A group of top female agents from American, British, Chinese, Columbian and German  government agencies are drawn together to try and stop an organization from acquiring a deadly weapon to send the world into chaos.",
         "781.748",
         "313",
         "6.1",
         "en",
         "Action, Thriller",
         "https://image.tmdb.org/t/p/original/uQt2dJFMnJmAp9zLAWNfGilK0BW.jpg"
        ],
        [
         "31",
         "2021-09-01",
         "Shang-Chi and the Legend of the Ten Rings",
         "Shang-Chi must confront the past he thought he left behind when he is drawn into the web of the mysterious Ten Rings organization.",
         "769.185",
         "5845",
         "7.7",
         "en",
         "Action, Adventure, Fantasy",
         "https://image.tmdb.org/t/p/original/1BIoJGKbXjdFDAqUEiA2VHqkK1Z.jpg"
        ],
        [
         "32",
         "2022-02-09",
         "Marry Me",
         "Music superstars Kat Valdez and Bastian are getting married before a global audience of fans. But when Kat learns, seconds before her vows, that Bastian has been unfaithful, she decides to marry Charlie, a stranger in the crowd, instead.",
         "761.793",
         "230",
         "6.9",
         "en",
         "Romance, Comedy, Music",
         "https://image.tmdb.org/t/p/original/ko1JVbGj4bT8IhCWqjBQ6ZtF2t.jpg"
        ],
        [
         "33",
         "2022-01-21",
         "The Hunting",
         "When a mysterious animal attack leaves a mutilated body in the forest, a conservative small town detective must enlist the help of an eager wildlife specialist to uncover the dark and disturbing truth that threatens the town.",
         "761.127",
         "10",
         "5.8",
         "en",
         "Horror",
         "https://image.tmdb.org/t/p/original/kvhrltQIRp1u84ao9uj52YPaWNY.jpg"
        ],
        [
         "34",
         "2021-12-08",
         "West Side Story",
         "Two youngsters from rival New York City gangs fall in love, but tensions between their respective friends build toward tragedy.",
         "678.186",
         "562",
         "7.4",
         "en",
         "Drama, Romance, Crime",
         "https://image.tmdb.org/t/p/original/yfz3IUoYYSY32tkb97HlUBGFsnh.jpg"
        ],
        [
         "35",
         "2022-02-04",
         "Through My Window",
         "Raquel's longtime crush on her next-door neighbor turns into something more when he starts developing feelings for her, despite his family's objections.",
         "659.105",
         "1331",
         "7.8",
         "es",
         "Romance, Drama",
         "https://image.tmdb.org/t/p/original/6gg7fvKc1ZxP9yCczweSxIGYp4S.jpg"
        ],
        [
         "36",
         "2021-07-02",
         "The Seven Deadly Sins: Cursed by Light",
         "With the help of the \"Dragon Sin of Wrath\" Meliodas and the worst rebels in history, the Seven Deadly Sins, the \"Holy War\", in which four races, including Humans, Goddesses, Fairies and Giants fought against the Demons, is finally over. At the cost of the \"Lion Sin of Pride\" Escanor's life, the Demon King was defeated and the world regained peace. After that, each of the Sins take their own path.",
         "647.54",
         "312",
         "8.0",
         "ja",
         "Animation, Fantasy",
         "https://image.tmdb.org/t/p/original/k0ThmZQl5nHe4JefC2bXjqtgYp0.jpg"
        ],
        [
         "37",
         "2021-11-05",
         "One Shot",
         "An elite squad of Navy SEALs, on a covert mission to transport a prisoner off a CIA black site island prison, are trapped when insurgents attack while trying to rescue the same prisoner.",
         "622.24",
         "382",
         "6.8",
         "en",
         "Action",
         "https://image.tmdb.org/t/p/original/3OXiTjU30gWtqxmx4BU9RVp2OTv.jpg"
        ],
        [
         "38",
         "2022-01-24",
         "Tom and Jerry: Cowboy Up!",
         "This time, the rivals team up to help a cowgirl and her brother save their homestead from a greedy land-grabber, and they’re going to need some help! Jerry’s three precocious nephews are all ready for action, and Tom is rounding up a posse of prairie dogs. But can a ragtag band of varmints defeat a deceitful desperado determined to deceive a damsel in distress? No matter what happens with Tom and Jerry in the saddle, it’ll be a rootin’ tootin’ good time!",
         "614.11",
         "163",
         "7.1",
         "en",
         "Animation, Comedy, Family, Western",
         "https://image.tmdb.org/t/p/original/muIaHotSaSUQr0KZCIJOYQEe7y2.jpg"
        ],
        [
         "39",
         "2020-10-15",
         "Chernobyl: Abyss",
         "The aftermath of a shocking explosion at the Chernobyl nuclear power station made hundreds of people sacrifice their lives to clean up the site of the catastrophe and to successfully prevent an even bigger disaster that could have turned a large part of the European continent into an uninhabitable exclusion zone. This is their story.",
         "601.958",
         "314",
         "6.2",
         "ru",
         "Drama, History, Adventure",
         "https://image.tmdb.org/t/p/original/AmJLuHjxPdIJO6vmymeWADG6jK5.jpg"
        ],
        [
         "40",
         "2022-02-25",
         "Desperate Riders",
         "After Kansas Red rescues young Billy from a card-game shootout, the boy asks Red for help protecting his family from the outlaw Thorn, who’s just kidnapped Billy’s mother, Carol. As Red and Billy ride off to rescue Carol, they run into beautiful, tough-as-nails Leslie, who’s managed to escape Thorn’s men. The three race to stop Thorn’s wedding to Carol with guns a-blazing - but does she want to be rescued?",
         "590.474",
         "10",
         "6.8",
         "en",
         "Western, Action",
         "https://image.tmdb.org/t/p/original/7pYYGm1dWZGkbJuhcuaHD6nE6k7.jpg"
        ],
        [
         "41",
         "2021-11-10",
         "Clifford the Big Red Dog",
         "As Emily struggles to fit in at home and at school, she discovers a small red puppy who is destined to become her best friend. When Clifford magically undergoes one heck of a growth spurt, becomes a gigantic dog and attracts the attention of a genetics company, Emily and her Uncle Casey have to fight the forces of greed as they go on the run across New York City. Along the way, Clifford affects the lives of everyone around him and teaches Emily and her uncle the true meaning of acceptance and unconditional love.",
         "585.011",
         "1100",
         "7.3",
         "en",
         "Family, Adventure, Comedy, Fantasy",
         "https://image.tmdb.org/t/p/original/oifhfVhUcuDjE61V5bS5dfShQrm.jpg"
        ],
        [
         "42",
         "2022-02-25",
         "Tyler Perry's A Madea Homecoming",
         "Madea's back - hallelujer! And she's not putting up with any nonsense as family drama erupts at her great-grandson's college graduation celebration.",
         "577.591",
         "42",
         "6.7",
         "en",
         "Comedy",
         "https://image.tmdb.org/t/p/original/vzX5GNRTXsAltdU1tfASmZbzYmv.jpg"
        ],
        [
         "43",
         "2021-07-01",
         "The Boss Baby: Family Business",
         "The Templeton brothers — Tim and his Boss Baby little bro Ted — have become adults and drifted away from each other. But a new boss baby with a cutting-edge approach and a can-do attitude is about to bring them together again … and inspire a new family business.",
         "567.421",
         "1785",
         "7.6",
         "en",
         "Animation, Comedy, Adventure, Family",
         "https://image.tmdb.org/t/p/original/kv2Qk9MKFFQo4WQPaYta599HkJP.jpg"
        ],
        [
         "44",
         "2022-03-10",
         "Turning Red",
         "Thirteen-year-old Mei is experiencing the awkwardness of being a teenager with a twist – when she gets too excited, she transforms into a giant red panda.",
         "564.507",
         "8",
         "8.6",
         "en",
         "Animation, Family, Comedy, Fantasy",
         "https://image.tmdb.org/t/p/original/qsdjk9oAKSQMWs0Vt5Pyfh6O4GZ.jpg"
        ],
        [
         "45",
         "2022-01-13",
         "Brazen",
         "Mystery writer Grace Miller has killer instincts when it comes to motive - and she'll need every bit of expertise to help solve her sister's murder.",
         "553.141",
         "211",
         "4.8",
         "en",
         "Thriller, Mystery, Drama",
         "https://image.tmdb.org/t/p/original/7e4n1GfC9iky9VQzH3cDQz9wYpO.jpg"
        ],
        [
         "46",
         "2022-01-14",
         "The House",
         "Across different eras, a poor family, an anxious developer and a fed-up landlady become tied to the same mysterious house in this animated dark comedy.",
         "551.65",
         "432",
         "7.1",
         "en",
         "Animation, Drama, Comedy, Horror",
         "https://image.tmdb.org/t/p/original/iZjMFSKCrleKolC1gYcz5Rs8bk1.jpg"
        ],
        [
         "47",
         "2022-02-10",
         "Blacklight",
         "Travis Block is a shadowy Government agent who specializes in removing operatives whose covers have been exposed. He then has to uncover a deadly conspiracy within his own ranks that reaches the highest echelons of power.",
         "533.903",
         "88",
         "5.1",
         "en",
         "Action, Thriller",
         "https://image.tmdb.org/t/p/original/bv9dy8mnwftdY2j6gG39gCfSFpV.jpg"
        ],
        [
         "48",
         "2021-10-15",
         "Ron's Gone Wrong",
         "In a world where walking, talking, digitally connected bots have become children's best friends, an 11-year-old finds that his robot buddy doesn't quite work the same as the others do.",
         "509.277",
         "1000",
         "8.1",
         "en",
         "Animation, Science Fiction, Family, Comedy",
         "https://image.tmdb.org/t/p/original/7M0uwPgwvPONdFG0jk8TPK09xJU.jpg"
        ],
        [
         "49",
         "2021-08-11",
         "Free Guy",
         "A bank teller called Guy realizes he is a background character in an open world video game called Free City that will soon go offline.",
         "447.872",
         "5158",
         "7.7",
         "en",
         "Comedy, Action, Adventure, Science Fiction",
         "https://image.tmdb.org/t/p/original/xmbU4JTUm8rsdtn7Y3Fcm30GpeT.jpg"
        ]
       ],
       "shape": {
        "columns": 9,
        "rows": 9827
       }
      },
      "text/html": [
       "<div>\n",
       "<style scoped>\n",
       "    .dataframe tbody tr th:only-of-type {\n",
       "        vertical-align: middle;\n",
       "    }\n",
       "\n",
       "    .dataframe tbody tr th {\n",
       "        vertical-align: top;\n",
       "    }\n",
       "\n",
       "    .dataframe thead th {\n",
       "        text-align: right;\n",
       "    }\n",
       "</style>\n",
       "<table border=\"1\" class=\"dataframe\">\n",
       "  <thead>\n",
       "    <tr style=\"text-align: right;\">\n",
       "      <th></th>\n",
       "      <th>Release_Date</th>\n",
       "      <th>Title</th>\n",
       "      <th>Overview</th>\n",
       "      <th>Popularity</th>\n",
       "      <th>Vote_Count</th>\n",
       "      <th>Vote_Average</th>\n",
       "      <th>Original_Language</th>\n",
       "      <th>Genre</th>\n",
       "      <th>Poster_Url</th>\n",
       "    </tr>\n",
       "  </thead>\n",
       "  <tbody>\n",
       "    <tr>\n",
       "      <th>0</th>\n",
       "      <td>2021-12-15</td>\n",
       "      <td>Spider-Man: No Way Home</td>\n",
       "      <td>Peter Parker is unmasked and no longer able to...</td>\n",
       "      <td>5083.954</td>\n",
       "      <td>8940</td>\n",
       "      <td>8.3</td>\n",
       "      <td>en</td>\n",
       "      <td>Action, Adventure, Science Fiction</td>\n",
       "      <td>https://image.tmdb.org/t/p/original/1g0dhYtq4i...</td>\n",
       "    </tr>\n",
       "    <tr>\n",
       "      <th>1</th>\n",
       "      <td>2022-03-01</td>\n",
       "      <td>The Batman</td>\n",
       "      <td>In his second year of fighting crime, Batman u...</td>\n",
       "      <td>3827.658</td>\n",
       "      <td>1151</td>\n",
       "      <td>8.1</td>\n",
       "      <td>en</td>\n",
       "      <td>Crime, Mystery, Thriller</td>\n",
       "      <td>https://image.tmdb.org/t/p/original/74xTEgt7R3...</td>\n",
       "    </tr>\n",
       "    <tr>\n",
       "      <th>2</th>\n",
       "      <td>2022-02-25</td>\n",
       "      <td>No Exit</td>\n",
       "      <td>Stranded at a rest stop in the mountains durin...</td>\n",
       "      <td>2618.087</td>\n",
       "      <td>122</td>\n",
       "      <td>6.3</td>\n",
       "      <td>en</td>\n",
       "      <td>Thriller</td>\n",
       "      <td>https://image.tmdb.org/t/p/original/vDHsLnOWKl...</td>\n",
       "    </tr>\n",
       "    <tr>\n",
       "      <th>3</th>\n",
       "      <td>2021-11-24</td>\n",
       "      <td>Encanto</td>\n",
       "      <td>The tale of an extraordinary family, the Madri...</td>\n",
       "      <td>2402.201</td>\n",
       "      <td>5076</td>\n",
       "      <td>7.7</td>\n",
       "      <td>en</td>\n",
       "      <td>Animation, Comedy, Family, Fantasy</td>\n",
       "      <td>https://image.tmdb.org/t/p/original/4j0PNHkMr5...</td>\n",
       "    </tr>\n",
       "    <tr>\n",
       "      <th>4</th>\n",
       "      <td>2021-12-22</td>\n",
       "      <td>The King's Man</td>\n",
       "      <td>As a collection of history's worst tyrants and...</td>\n",
       "      <td>1895.511</td>\n",
       "      <td>1793</td>\n",
       "      <td>7.0</td>\n",
       "      <td>en</td>\n",
       "      <td>Action, Adventure, Thriller, War</td>\n",
       "      <td>https://image.tmdb.org/t/p/original/aq4Pwv5Xeu...</td>\n",
       "    </tr>\n",
       "    <tr>\n",
       "      <th>...</th>\n",
       "      <td>...</td>\n",
       "      <td>...</td>\n",
       "      <td>...</td>\n",
       "      <td>...</td>\n",
       "      <td>...</td>\n",
       "      <td>...</td>\n",
       "      <td>...</td>\n",
       "      <td>...</td>\n",
       "      <td>...</td>\n",
       "    </tr>\n",
       "    <tr>\n",
       "      <th>9822</th>\n",
       "      <td>1973-10-15</td>\n",
       "      <td>Badlands</td>\n",
       "      <td>A dramatization of the Starkweather-Fugate kil...</td>\n",
       "      <td>13.357</td>\n",
       "      <td>896</td>\n",
       "      <td>7.6</td>\n",
       "      <td>en</td>\n",
       "      <td>Drama, Crime</td>\n",
       "      <td>https://image.tmdb.org/t/p/original/z81rBzHNgi...</td>\n",
       "    </tr>\n",
       "    <tr>\n",
       "      <th>9823</th>\n",
       "      <td>2020-10-01</td>\n",
       "      <td>Violent Delights</td>\n",
       "      <td>A female vampire falls in love with a man she ...</td>\n",
       "      <td>13.356</td>\n",
       "      <td>8</td>\n",
       "      <td>3.5</td>\n",
       "      <td>es</td>\n",
       "      <td>Horror</td>\n",
       "      <td>https://image.tmdb.org/t/p/original/4b6HY7rud6...</td>\n",
       "    </tr>\n",
       "    <tr>\n",
       "      <th>9824</th>\n",
       "      <td>2016-05-06</td>\n",
       "      <td>The Offering</td>\n",
       "      <td>When young and successful reporter Jamie finds...</td>\n",
       "      <td>13.355</td>\n",
       "      <td>94</td>\n",
       "      <td>5.0</td>\n",
       "      <td>en</td>\n",
       "      <td>Mystery, Thriller, Horror</td>\n",
       "      <td>https://image.tmdb.org/t/p/original/h4uMM1wOhz...</td>\n",
       "    </tr>\n",
       "    <tr>\n",
       "      <th>9825</th>\n",
       "      <td>2021-03-31</td>\n",
       "      <td>The United States vs. Billie Holiday</td>\n",
       "      <td>Billie Holiday spent much of her career being ...</td>\n",
       "      <td>13.354</td>\n",
       "      <td>152</td>\n",
       "      <td>6.7</td>\n",
       "      <td>en</td>\n",
       "      <td>Music, Drama, History</td>\n",
       "      <td>https://image.tmdb.org/t/p/original/vEzkxuE2sJ...</td>\n",
       "    </tr>\n",
       "    <tr>\n",
       "      <th>9826</th>\n",
       "      <td>1984-09-23</td>\n",
       "      <td>Threads</td>\n",
       "      <td>Documentary style account of a nuclear holocau...</td>\n",
       "      <td>13.354</td>\n",
       "      <td>186</td>\n",
       "      <td>7.8</td>\n",
       "      <td>en</td>\n",
       "      <td>War, Drama, Science Fiction</td>\n",
       "      <td>https://image.tmdb.org/t/p/original/lBhU4U9Eeh...</td>\n",
       "    </tr>\n",
       "  </tbody>\n",
       "</table>\n",
       "<p>9827 rows × 9 columns</p>\n",
       "</div>"
      ],
      "text/plain": [
       "     Release_Date                                 Title  \\\n",
       "0      2021-12-15               Spider-Man: No Way Home   \n",
       "1      2022-03-01                            The Batman   \n",
       "2      2022-02-25                               No Exit   \n",
       "3      2021-11-24                               Encanto   \n",
       "4      2021-12-22                        The King's Man   \n",
       "...           ...                                   ...   \n",
       "9822   1973-10-15                              Badlands   \n",
       "9823   2020-10-01                      Violent Delights   \n",
       "9824   2016-05-06                          The Offering   \n",
       "9825   2021-03-31  The United States vs. Billie Holiday   \n",
       "9826   1984-09-23                               Threads   \n",
       "\n",
       "                                               Overview  Popularity  \\\n",
       "0     Peter Parker is unmasked and no longer able to...    5083.954   \n",
       "1     In his second year of fighting crime, Batman u...    3827.658   \n",
       "2     Stranded at a rest stop in the mountains durin...    2618.087   \n",
       "3     The tale of an extraordinary family, the Madri...    2402.201   \n",
       "4     As a collection of history's worst tyrants and...    1895.511   \n",
       "...                                                 ...         ...   \n",
       "9822  A dramatization of the Starkweather-Fugate kil...      13.357   \n",
       "9823  A female vampire falls in love with a man she ...      13.356   \n",
       "9824  When young and successful reporter Jamie finds...      13.355   \n",
       "9825  Billie Holiday spent much of her career being ...      13.354   \n",
       "9826  Documentary style account of a nuclear holocau...      13.354   \n",
       "\n",
       "      Vote_Count  Vote_Average Original_Language  \\\n",
       "0           8940           8.3                en   \n",
       "1           1151           8.1                en   \n",
       "2            122           6.3                en   \n",
       "3           5076           7.7                en   \n",
       "4           1793           7.0                en   \n",
       "...          ...           ...               ...   \n",
       "9822         896           7.6                en   \n",
       "9823           8           3.5                es   \n",
       "9824          94           5.0                en   \n",
       "9825         152           6.7                en   \n",
       "9826         186           7.8                en   \n",
       "\n",
       "                                   Genre  \\\n",
       "0     Action, Adventure, Science Fiction   \n",
       "1               Crime, Mystery, Thriller   \n",
       "2                               Thriller   \n",
       "3     Animation, Comedy, Family, Fantasy   \n",
       "4       Action, Adventure, Thriller, War   \n",
       "...                                  ...   \n",
       "9822                        Drama, Crime   \n",
       "9823                              Horror   \n",
       "9824           Mystery, Thriller, Horror   \n",
       "9825               Music, Drama, History   \n",
       "9826         War, Drama, Science Fiction   \n",
       "\n",
       "                                             Poster_Url  \n",
       "0     https://image.tmdb.org/t/p/original/1g0dhYtq4i...  \n",
       "1     https://image.tmdb.org/t/p/original/74xTEgt7R3...  \n",
       "2     https://image.tmdb.org/t/p/original/vDHsLnOWKl...  \n",
       "3     https://image.tmdb.org/t/p/original/4j0PNHkMr5...  \n",
       "4     https://image.tmdb.org/t/p/original/aq4Pwv5Xeu...  \n",
       "...                                                 ...  \n",
       "9822  https://image.tmdb.org/t/p/original/z81rBzHNgi...  \n",
       "9823  https://image.tmdb.org/t/p/original/4b6HY7rud6...  \n",
       "9824  https://image.tmdb.org/t/p/original/h4uMM1wOhz...  \n",
       "9825  https://image.tmdb.org/t/p/original/vEzkxuE2sJ...  \n",
       "9826  https://image.tmdb.org/t/p/original/lBhU4U9Eeh...  \n",
       "\n",
       "[9827 rows x 9 columns]"
      ]
     },
     "execution_count": 101,
     "metadata": {},
     "output_type": "execute_result"
    }
   ],
   "source": [
    "# Load the dataset\n",
    "df = pd.read_csv('mymoviedb.csv',lineterminator= '\\n')\n",
    "df"
   ]
  },
  {
   "cell_type": "markdown",
   "id": "d1354cf5",
   "metadata": {},
   "source": [
    "### data cleaning and pre processing "
   ]
  },
  {
   "cell_type": "markdown",
   "id": "6b4e5fd4",
   "metadata": {},
   "source": [
    "#### Exploration Summary\n",
    "• we have a dataframe consisting of 9827 rows and 9 columns.\n",
    "\n",
    "• our dataset looks a bit tidy with no NaNs nor duplicated values.\n",
    "\n",
    "• Release_Date column needs to be casted into date time and to extract only the year value.\n",
    "\n",
    "• Overview, Original_Languege and Poster-Url wouldn't be so useful during analysis, so we will drop them.\n",
    "\n",
    "• there is noticable outliers in Popularity column\n",
    "\n",
    "• Vote_Average bettter be categorised for proper analysis.\n",
    "\n",
    "• Genre column has comma saperated values and white spaces that needs to be handled and casted into category.exploration summary."
   ]
  },
  {
   "cell_type": "code",
   "execution_count": 102,
   "id": "fd4eac10",
   "metadata": {},
   "outputs": [
    {
     "name": "stdout",
     "output_type": "stream",
     "text": [
      "<class 'pandas.core.frame.DataFrame'>\n",
      "RangeIndex: 9827 entries, 0 to 9826\n",
      "Data columns (total 9 columns):\n",
      " #   Column             Non-Null Count  Dtype  \n",
      "---  ------             --------------  -----  \n",
      " 0   Release_Date       9827 non-null   object \n",
      " 1   Title              9827 non-null   object \n",
      " 2   Overview           9827 non-null   object \n",
      " 3   Popularity         9827 non-null   float64\n",
      " 4   Vote_Count         9827 non-null   int64  \n",
      " 5   Vote_Average       9827 non-null   float64\n",
      " 6   Original_Language  9827 non-null   object \n",
      " 7   Genre              9827 non-null   object \n",
      " 8   Poster_Url         9827 non-null   object \n",
      "dtypes: float64(2), int64(1), object(6)\n",
      "memory usage: 691.1+ KB\n"
     ]
    }
   ],
   "source": [
    "df.info()"
   ]
  },
  {
   "cell_type": "code",
   "execution_count": 103,
   "id": "1328a316",
   "metadata": {},
   "outputs": [
    {
     "name": "stdout",
     "output_type": "stream",
     "text": [
      "False    9827\n",
      "Name: count, dtype: int64\n"
     ]
    }
   ],
   "source": [
    "print(df.duplicated().value_counts())   # there is no duplicated data in the dataset"
   ]
  },
  {
   "cell_type": "code",
   "execution_count": 104,
   "id": "9f1f0486",
   "metadata": {},
   "outputs": [
    {
     "data": {
      "application/vnd.microsoft.datawrangler.viewer.v0+json": {
       "columns": [
        {
         "name": "index",
         "rawType": "object",
         "type": "string"
        },
        {
         "name": "0",
         "rawType": "int64",
         "type": "integer"
        }
       ],
       "ref": "46c93602-b343-4a4b-98d3-5461a291bbff",
       "rows": [
        [
         "Release_Date",
         "0"
        ],
        [
         "Title",
         "0"
        ],
        [
         "Overview",
         "0"
        ],
        [
         "Popularity",
         "0"
        ],
        [
         "Vote_Count",
         "0"
        ],
        [
         "Vote_Average",
         "0"
        ],
        [
         "Original_Language",
         "0"
        ],
        [
         "Genre",
         "0"
        ],
        [
         "Poster_Url",
         "0"
        ]
       ],
       "shape": {
        "columns": 1,
        "rows": 9
       }
      },
      "text/plain": [
       "Release_Date         0\n",
       "Title                0\n",
       "Overview             0\n",
       "Popularity           0\n",
       "Vote_Count           0\n",
       "Vote_Average         0\n",
       "Original_Language    0\n",
       "Genre                0\n",
       "Poster_Url           0\n",
       "dtype: int64"
      ]
     },
     "execution_count": 104,
     "metadata": {},
     "output_type": "execute_result"
    }
   ],
   "source": [
    "df.isnull().sum()   # there are no null values in the dataset."
   ]
  },
  {
   "cell_type": "code",
   "execution_count": 105,
   "id": "9a966024",
   "metadata": {},
   "outputs": [
    {
     "data": {
      "application/vnd.microsoft.datawrangler.viewer.v0+json": {
       "columns": [
        {
         "name": "index",
         "rawType": "object",
         "type": "string"
        },
        {
         "name": "Popularity",
         "rawType": "float64",
         "type": "float"
        },
        {
         "name": "Vote_Count",
         "rawType": "float64",
         "type": "float"
        },
        {
         "name": "Vote_Average",
         "rawType": "float64",
         "type": "float"
        }
       ],
       "ref": "172f8b63-4484-46e2-9a64-fdb5e95ca74e",
       "rows": [
        [
         "count",
         "9827.0",
         "9827.0",
         "9827.0"
        ],
        [
         "mean",
         "40.32608822631526",
         "1392.8055357688002",
         "6.439533937112039"
        ],
        [
         "std",
         "108.87399804858303",
         "2611.2069068183046",
         "1.1297591316946305"
        ],
        [
         "min",
         "13.354",
         "0.0",
         "0.0"
        ],
        [
         "25%",
         "16.128500000000003",
         "146.0",
         "5.9"
        ],
        [
         "50%",
         "21.199",
         "444.0",
         "6.5"
        ],
        [
         "75%",
         "35.1915",
         "1376.0",
         "7.1"
        ],
        [
         "max",
         "5083.954",
         "31077.0",
         "10.0"
        ]
       ],
       "shape": {
        "columns": 3,
        "rows": 8
       }
      },
      "text/html": [
       "<div>\n",
       "<style scoped>\n",
       "    .dataframe tbody tr th:only-of-type {\n",
       "        vertical-align: middle;\n",
       "    }\n",
       "\n",
       "    .dataframe tbody tr th {\n",
       "        vertical-align: top;\n",
       "    }\n",
       "\n",
       "    .dataframe thead th {\n",
       "        text-align: right;\n",
       "    }\n",
       "</style>\n",
       "<table border=\"1\" class=\"dataframe\">\n",
       "  <thead>\n",
       "    <tr style=\"text-align: right;\">\n",
       "      <th></th>\n",
       "      <th>Popularity</th>\n",
       "      <th>Vote_Count</th>\n",
       "      <th>Vote_Average</th>\n",
       "    </tr>\n",
       "  </thead>\n",
       "  <tbody>\n",
       "    <tr>\n",
       "      <th>count</th>\n",
       "      <td>9827.000000</td>\n",
       "      <td>9827.000000</td>\n",
       "      <td>9827.000000</td>\n",
       "    </tr>\n",
       "    <tr>\n",
       "      <th>mean</th>\n",
       "      <td>40.326088</td>\n",
       "      <td>1392.805536</td>\n",
       "      <td>6.439534</td>\n",
       "    </tr>\n",
       "    <tr>\n",
       "      <th>std</th>\n",
       "      <td>108.873998</td>\n",
       "      <td>2611.206907</td>\n",
       "      <td>1.129759</td>\n",
       "    </tr>\n",
       "    <tr>\n",
       "      <th>min</th>\n",
       "      <td>13.354000</td>\n",
       "      <td>0.000000</td>\n",
       "      <td>0.000000</td>\n",
       "    </tr>\n",
       "    <tr>\n",
       "      <th>25%</th>\n",
       "      <td>16.128500</td>\n",
       "      <td>146.000000</td>\n",
       "      <td>5.900000</td>\n",
       "    </tr>\n",
       "    <tr>\n",
       "      <th>50%</th>\n",
       "      <td>21.199000</td>\n",
       "      <td>444.000000</td>\n",
       "      <td>6.500000</td>\n",
       "    </tr>\n",
       "    <tr>\n",
       "      <th>75%</th>\n",
       "      <td>35.191500</td>\n",
       "      <td>1376.000000</td>\n",
       "      <td>7.100000</td>\n",
       "    </tr>\n",
       "    <tr>\n",
       "      <th>max</th>\n",
       "      <td>5083.954000</td>\n",
       "      <td>31077.000000</td>\n",
       "      <td>10.000000</td>\n",
       "    </tr>\n",
       "  </tbody>\n",
       "</table>\n",
       "</div>"
      ],
      "text/plain": [
       "        Popularity    Vote_Count  Vote_Average\n",
       "count  9827.000000   9827.000000   9827.000000\n",
       "mean     40.326088   1392.805536      6.439534\n",
       "std     108.873998   2611.206907      1.129759\n",
       "min      13.354000      0.000000      0.000000\n",
       "25%      16.128500    146.000000      5.900000\n",
       "50%      21.199000    444.000000      6.500000\n",
       "75%      35.191500   1376.000000      7.100000\n",
       "max    5083.954000  31077.000000     10.000000"
      ]
     },
     "execution_count": 105,
     "metadata": {},
     "output_type": "execute_result"
    }
   ],
   "source": [
    "df.describe()"
   ]
  },
  {
   "cell_type": "code",
   "execution_count": 106,
   "id": "93c9b043",
   "metadata": {},
   "outputs": [],
   "source": [
    "#change the data type of 'Release_Date' from object to datetime.\n",
    "df['Release_Date'] = pd.to_datetime(df['Release_Date'])"
   ]
  },
  {
   "cell_type": "code",
   "execution_count": 107,
   "id": "8c31ebac",
   "metadata": {},
   "outputs": [
    {
     "name": "stdout",
     "output_type": "stream",
     "text": [
      "<class 'pandas.core.frame.DataFrame'>\n",
      "RangeIndex: 9827 entries, 0 to 9826\n",
      "Data columns (total 9 columns):\n",
      " #   Column             Non-Null Count  Dtype         \n",
      "---  ------             --------------  -----         \n",
      " 0   Release_Date       9827 non-null   datetime64[ns]\n",
      " 1   Title              9827 non-null   object        \n",
      " 2   Overview           9827 non-null   object        \n",
      " 3   Popularity         9827 non-null   float64       \n",
      " 4   Vote_Count         9827 non-null   int64         \n",
      " 5   Vote_Average       9827 non-null   float64       \n",
      " 6   Original_Language  9827 non-null   object        \n",
      " 7   Genre              9827 non-null   object        \n",
      " 8   Poster_Url         9827 non-null   object        \n",
      "dtypes: datetime64[ns](1), float64(2), int64(1), object(5)\n",
      "memory usage: 691.1+ KB\n"
     ]
    }
   ],
   "source": [
    "df.info()   #relase_date is now in datetime format"
   ]
  },
  {
   "cell_type": "code",
   "execution_count": 108,
   "id": "ac1930b3",
   "metadata": {},
   "outputs": [],
   "source": [
    "#we wants years only thats why we are extracting years only.\n",
    "df['Release_Date'] = df['Release_Date'].dt.year   "
   ]
  },
  {
   "cell_type": "code",
   "execution_count": 109,
   "id": "8e946ed5",
   "metadata": {},
   "outputs": [
    {
     "data": {
      "application/vnd.microsoft.datawrangler.viewer.v0+json": {
       "columns": [
        {
         "name": "index",
         "rawType": "int64",
         "type": "integer"
        },
        {
         "name": "Release_Date",
         "rawType": "int32",
         "type": "integer"
        },
        {
         "name": "Title",
         "rawType": "object",
         "type": "string"
        },
        {
         "name": "Popularity",
         "rawType": "float64",
         "type": "float"
        },
        {
         "name": "Vote_Count",
         "rawType": "int64",
         "type": "integer"
        },
        {
         "name": "Vote_Average",
         "rawType": "float64",
         "type": "float"
        },
        {
         "name": "Genre",
         "rawType": "object",
         "type": "string"
        }
       ],
       "ref": "2363c119-ac84-4b80-b017-96deb992c529",
       "rows": [
        [
         "0",
         "2021",
         "Spider-Man: No Way Home",
         "5083.954",
         "8940",
         "8.3",
         "Action, Adventure, Science Fiction"
        ],
        [
         "1",
         "2022",
         "The Batman",
         "3827.658",
         "1151",
         "8.1",
         "Crime, Mystery, Thriller"
        ],
        [
         "2",
         "2022",
         "No Exit",
         "2618.087",
         "122",
         "6.3",
         "Thriller"
        ],
        [
         "3",
         "2021",
         "Encanto",
         "2402.201",
         "5076",
         "7.7",
         "Animation, Comedy, Family, Fantasy"
        ],
        [
         "4",
         "2021",
         "The King's Man",
         "1895.511",
         "1793",
         "7.0",
         "Action, Adventure, Thriller, War"
        ],
        [
         "5",
         "2022",
         "The Commando",
         "1750.484",
         "33",
         "6.6",
         "Action, Crime, Thriller"
        ],
        [
         "6",
         "2022",
         "Scream",
         "1675.161",
         "821",
         "6.8",
         "Horror, Mystery, Thriller"
        ],
        [
         "7",
         "2022",
         "Kimi",
         "1601.782",
         "206",
         "6.3",
         "Thriller"
        ],
        [
         "8",
         "2022",
         "Fistful of Vengeance",
         "1594.013",
         "114",
         "5.3",
         "Action, Crime, Fantasy"
        ],
        [
         "9",
         "2021",
         "Eternals",
         "1537.406",
         "4726",
         "7.2",
         "Science Fiction"
        ],
        [
         "10",
         "2022",
         "Pursuit",
         "1500.523",
         "16",
         "5.9",
         "Action, Crime, Thriller"
        ],
        [
         "11",
         "2021",
         "My Hero Academia: World Heroes' Mission",
         "1485.064",
         "100",
         "7.3",
         "Animation, Action, Fantasy, Adventure"
        ],
        [
         "12",
         "2022",
         "Restless",
         "1468.377",
         "107",
         "5.9",
         "Action, Thriller, Crime"
        ],
        [
         "13",
         "2021",
         "Nightmare Alley",
         "1455.144",
         "952",
         "7.1",
         "Crime, Drama, Thriller"
        ],
        [
         "14",
         "2022",
         "The Ice Age Adventures of Buck Wild",
         "1431.307",
         "737",
         "7.1",
         "Animation, Comedy, Adventure, Family"
        ],
        [
         "15",
         "2022",
         "Hotel Transylvania: Transformania",
         "1373.778",
         "288",
         "7.0",
         "Animation, Family, Fantasy, Comedy, Adventure"
        ],
        [
         "16",
         "2022",
         "Texas Chainsaw Massacre",
         "1312.79",
         "521",
         "5.1",
         "Horror"
        ],
        [
         "17",
         "2022",
         "The Requin",
         "1252.317",
         "65",
         "4.6",
         "Thriller"
        ],
        [
         "18",
         "2022",
         "Looop Lapeta",
         "1240.946",
         "31",
         "6.0",
         "Action, Comedy, Crime"
        ],
        [
         "19",
         "2021",
         "Red Notice",
         "1178.544",
         "3193",
         "6.8",
         "Action, Comedy, Crime, Thriller"
        ],
        [
         "20",
         "2021",
         "Sing 2",
         "1112.9",
         "2172",
         "8.2",
         "Animation, Comedy, Family, Music"
        ],
        [
         "21",
         "2022",
         "The Jack in the Box: Awakening",
         "1096.79",
         "43",
         "5.4",
         "Horror"
        ],
        [
         "22",
         "2021",
         "Venom: Let There Be Carnage",
         "1053.615",
         "6539",
         "7.1",
         "Science Fiction, Action, Adventure"
        ],
        [
         "23",
         "2021",
         "The Matrix Resurrections",
         "941.024",
         "3160",
         "6.8",
         "Science Fiction, Action, Adventure"
        ],
        [
         "24",
         "2021",
         "Resident Evil: Welcome to Raccoon City",
         "881.086",
         "1312",
         "6.1",
         "Horror, Action, Science Fiction"
        ],
        [
         "25",
         "2021",
         "Last Man Down",
         "869.605",
         "318",
         "6.3",
         "Action, Thriller"
        ],
        [
         "26",
         "2022",
         "American Siege",
         "867.326",
         "49",
         "5.4",
         "Action, Thriller, Crime, Drama"
        ],
        [
         "27",
         "2022",
         "Uncharted",
         "866.391",
         "691",
         "7.1",
         "Action, Adventure"
        ],
        [
         "28",
         "2020",
         "Demon Slayer -Kimetsu no Yaiba- The Movie: Mugen Train",
         "845.992",
         "2224",
         "8.4",
         "Animation, Action, Adventure, Fantasy"
        ],
        [
         "29",
         "2021",
         "Ghostbusters: Afterlife",
         "839.904",
         "2225",
         "7.7",
         "Fantasy, Comedy, Adventure"
        ],
        [
         "30",
         "2022",
         "The 355",
         "781.748",
         "313",
         "6.1",
         "Action, Thriller"
        ],
        [
         "31",
         "2021",
         "Shang-Chi and the Legend of the Ten Rings",
         "769.185",
         "5845",
         "7.7",
         "Action, Adventure, Fantasy"
        ],
        [
         "32",
         "2022",
         "Marry Me",
         "761.793",
         "230",
         "6.9",
         "Romance, Comedy, Music"
        ],
        [
         "33",
         "2022",
         "The Hunting",
         "761.127",
         "10",
         "5.8",
         "Horror"
        ],
        [
         "34",
         "2021",
         "West Side Story",
         "678.186",
         "562",
         "7.4",
         "Drama, Romance, Crime"
        ],
        [
         "35",
         "2022",
         "Through My Window",
         "659.105",
         "1331",
         "7.8",
         "Romance, Drama"
        ],
        [
         "36",
         "2021",
         "The Seven Deadly Sins: Cursed by Light",
         "647.54",
         "312",
         "8.0",
         "Animation, Fantasy"
        ],
        [
         "37",
         "2021",
         "One Shot",
         "622.24",
         "382",
         "6.8",
         "Action"
        ],
        [
         "38",
         "2022",
         "Tom and Jerry: Cowboy Up!",
         "614.11",
         "163",
         "7.1",
         "Animation, Comedy, Family, Western"
        ],
        [
         "39",
         "2020",
         "Chernobyl: Abyss",
         "601.958",
         "314",
         "6.2",
         "Drama, History, Adventure"
        ],
        [
         "40",
         "2022",
         "Desperate Riders",
         "590.474",
         "10",
         "6.8",
         "Western, Action"
        ],
        [
         "41",
         "2021",
         "Clifford the Big Red Dog",
         "585.011",
         "1100",
         "7.3",
         "Family, Adventure, Comedy, Fantasy"
        ],
        [
         "42",
         "2022",
         "Tyler Perry's A Madea Homecoming",
         "577.591",
         "42",
         "6.7",
         "Comedy"
        ],
        [
         "43",
         "2021",
         "The Boss Baby: Family Business",
         "567.421",
         "1785",
         "7.6",
         "Animation, Comedy, Adventure, Family"
        ],
        [
         "44",
         "2022",
         "Turning Red",
         "564.507",
         "8",
         "8.6",
         "Animation, Family, Comedy, Fantasy"
        ],
        [
         "45",
         "2022",
         "Brazen",
         "553.141",
         "211",
         "4.8",
         "Thriller, Mystery, Drama"
        ],
        [
         "46",
         "2022",
         "The House",
         "551.65",
         "432",
         "7.1",
         "Animation, Drama, Comedy, Horror"
        ],
        [
         "47",
         "2022",
         "Blacklight",
         "533.903",
         "88",
         "5.1",
         "Action, Thriller"
        ],
        [
         "48",
         "2021",
         "Ron's Gone Wrong",
         "509.277",
         "1000",
         "8.1",
         "Animation, Science Fiction, Family, Comedy"
        ],
        [
         "49",
         "2021",
         "Free Guy",
         "447.872",
         "5158",
         "7.7",
         "Comedy, Action, Adventure, Science Fiction"
        ]
       ],
       "shape": {
        "columns": 6,
        "rows": 9827
       }
      },
      "text/html": [
       "<div>\n",
       "<style scoped>\n",
       "    .dataframe tbody tr th:only-of-type {\n",
       "        vertical-align: middle;\n",
       "    }\n",
       "\n",
       "    .dataframe tbody tr th {\n",
       "        vertical-align: top;\n",
       "    }\n",
       "\n",
       "    .dataframe thead th {\n",
       "        text-align: right;\n",
       "    }\n",
       "</style>\n",
       "<table border=\"1\" class=\"dataframe\">\n",
       "  <thead>\n",
       "    <tr style=\"text-align: right;\">\n",
       "      <th></th>\n",
       "      <th>Release_Date</th>\n",
       "      <th>Title</th>\n",
       "      <th>Popularity</th>\n",
       "      <th>Vote_Count</th>\n",
       "      <th>Vote_Average</th>\n",
       "      <th>Genre</th>\n",
       "    </tr>\n",
       "  </thead>\n",
       "  <tbody>\n",
       "    <tr>\n",
       "      <th>0</th>\n",
       "      <td>2021</td>\n",
       "      <td>Spider-Man: No Way Home</td>\n",
       "      <td>5083.954</td>\n",
       "      <td>8940</td>\n",
       "      <td>8.3</td>\n",
       "      <td>Action, Adventure, Science Fiction</td>\n",
       "    </tr>\n",
       "    <tr>\n",
       "      <th>1</th>\n",
       "      <td>2022</td>\n",
       "      <td>The Batman</td>\n",
       "      <td>3827.658</td>\n",
       "      <td>1151</td>\n",
       "      <td>8.1</td>\n",
       "      <td>Crime, Mystery, Thriller</td>\n",
       "    </tr>\n",
       "    <tr>\n",
       "      <th>2</th>\n",
       "      <td>2022</td>\n",
       "      <td>No Exit</td>\n",
       "      <td>2618.087</td>\n",
       "      <td>122</td>\n",
       "      <td>6.3</td>\n",
       "      <td>Thriller</td>\n",
       "    </tr>\n",
       "    <tr>\n",
       "      <th>3</th>\n",
       "      <td>2021</td>\n",
       "      <td>Encanto</td>\n",
       "      <td>2402.201</td>\n",
       "      <td>5076</td>\n",
       "      <td>7.7</td>\n",
       "      <td>Animation, Comedy, Family, Fantasy</td>\n",
       "    </tr>\n",
       "    <tr>\n",
       "      <th>4</th>\n",
       "      <td>2021</td>\n",
       "      <td>The King's Man</td>\n",
       "      <td>1895.511</td>\n",
       "      <td>1793</td>\n",
       "      <td>7.0</td>\n",
       "      <td>Action, Adventure, Thriller, War</td>\n",
       "    </tr>\n",
       "    <tr>\n",
       "      <th>...</th>\n",
       "      <td>...</td>\n",
       "      <td>...</td>\n",
       "      <td>...</td>\n",
       "      <td>...</td>\n",
       "      <td>...</td>\n",
       "      <td>...</td>\n",
       "    </tr>\n",
       "    <tr>\n",
       "      <th>9822</th>\n",
       "      <td>1973</td>\n",
       "      <td>Badlands</td>\n",
       "      <td>13.357</td>\n",
       "      <td>896</td>\n",
       "      <td>7.6</td>\n",
       "      <td>Drama, Crime</td>\n",
       "    </tr>\n",
       "    <tr>\n",
       "      <th>9823</th>\n",
       "      <td>2020</td>\n",
       "      <td>Violent Delights</td>\n",
       "      <td>13.356</td>\n",
       "      <td>8</td>\n",
       "      <td>3.5</td>\n",
       "      <td>Horror</td>\n",
       "    </tr>\n",
       "    <tr>\n",
       "      <th>9824</th>\n",
       "      <td>2016</td>\n",
       "      <td>The Offering</td>\n",
       "      <td>13.355</td>\n",
       "      <td>94</td>\n",
       "      <td>5.0</td>\n",
       "      <td>Mystery, Thriller, Horror</td>\n",
       "    </tr>\n",
       "    <tr>\n",
       "      <th>9825</th>\n",
       "      <td>2021</td>\n",
       "      <td>The United States vs. Billie Holiday</td>\n",
       "      <td>13.354</td>\n",
       "      <td>152</td>\n",
       "      <td>6.7</td>\n",
       "      <td>Music, Drama, History</td>\n",
       "    </tr>\n",
       "    <tr>\n",
       "      <th>9826</th>\n",
       "      <td>1984</td>\n",
       "      <td>Threads</td>\n",
       "      <td>13.354</td>\n",
       "      <td>186</td>\n",
       "      <td>7.8</td>\n",
       "      <td>War, Drama, Science Fiction</td>\n",
       "    </tr>\n",
       "  </tbody>\n",
       "</table>\n",
       "<p>9827 rows × 6 columns</p>\n",
       "</div>"
      ],
      "text/plain": [
       "      Release_Date                                 Title  Popularity  \\\n",
       "0             2021               Spider-Man: No Way Home    5083.954   \n",
       "1             2022                            The Batman    3827.658   \n",
       "2             2022                               No Exit    2618.087   \n",
       "3             2021                               Encanto    2402.201   \n",
       "4             2021                        The King's Man    1895.511   \n",
       "...            ...                                   ...         ...   \n",
       "9822          1973                              Badlands      13.357   \n",
       "9823          2020                      Violent Delights      13.356   \n",
       "9824          2016                          The Offering      13.355   \n",
       "9825          2021  The United States vs. Billie Holiday      13.354   \n",
       "9826          1984                               Threads      13.354   \n",
       "\n",
       "      Vote_Count  Vote_Average                               Genre  \n",
       "0           8940           8.3  Action, Adventure, Science Fiction  \n",
       "1           1151           8.1            Crime, Mystery, Thriller  \n",
       "2            122           6.3                            Thriller  \n",
       "3           5076           7.7  Animation, Comedy, Family, Fantasy  \n",
       "4           1793           7.0    Action, Adventure, Thriller, War  \n",
       "...          ...           ...                                 ...  \n",
       "9822         896           7.6                        Drama, Crime  \n",
       "9823           8           3.5                              Horror  \n",
       "9824          94           5.0           Mystery, Thriller, Horror  \n",
       "9825         152           6.7               Music, Drama, History  \n",
       "9826         186           7.8         War, Drama, Science Fiction  \n",
       "\n",
       "[9827 rows x 6 columns]"
      ]
     },
     "execution_count": 109,
     "metadata": {},
     "output_type": "execute_result"
    }
   ],
   "source": [
    "# drop the column which we dont need\n",
    "df.drop(['Overview','Original_Language','Poster_Url'], axis=1, inplace=True)\n",
    "df"
   ]
  },
  {
   "cell_type": "markdown",
   "id": "0bd699ac",
   "metadata": {},
   "source": [
    "***categorizing Vote_Average column***\n",
    "\n",
    "We would cut the Vote_Average values and make 4 categories: \n",
    "\n",
    "**1. popular** \n",
    "\n",
    "**2. average**\n",
    "\n",
    "***3. below_avg*** \n",
    "\n",
    "**4. not_popular**\n",
    "\n",
    "to describe it more using catigorize_col() function\n",
    "provided above.\n"
   ]
  },
  {
   "cell_type": "code",
   "execution_count": 110,
   "id": "a38ccddd",
   "metadata": {},
   "outputs": [],
   "source": [
    "# create user-defined function to categorize the vote avarage column.\n",
    "def catigorize_col(df, col, labels):\n",
    "    edges = [df[col].describe()['min'],\n",
    "            df[col].describe()['25%'],\n",
    "            df[col].describe()['50%'],\n",
    "            df[col].describe()['75%'],\n",
    "            df[col].describe()['max']]\n",
    "    df[col] = pd.cut(df[col], edges, labels = labels, duplicates='drop')\n",
    "    return df"
   ]
  },
  {
   "cell_type": "code",
   "execution_count": 111,
   "id": "7c2cd60d",
   "metadata": {},
   "outputs": [
    {
     "data": {
      "application/vnd.microsoft.datawrangler.viewer.v0+json": {
       "columns": [
        {
         "name": "index",
         "rawType": "int64",
         "type": "integer"
        },
        {
         "name": "Release_Date",
         "rawType": "int32",
         "type": "integer"
        },
        {
         "name": "Title",
         "rawType": "object",
         "type": "string"
        },
        {
         "name": "Popularity",
         "rawType": "float64",
         "type": "float"
        },
        {
         "name": "Vote_Count",
         "rawType": "int64",
         "type": "integer"
        },
        {
         "name": "Vote_Average",
         "rawType": "category",
         "type": "unknown"
        },
        {
         "name": "Genre",
         "rawType": "object",
         "type": "string"
        }
       ],
       "ref": "4c29e2ef-d14e-439f-9daa-080e7c7d2a2f",
       "rows": [
        [
         "0",
         "2021",
         "Spider-Man: No Way Home",
         "5083.954",
         "8940",
         "popular",
         "Action, Adventure, Science Fiction"
        ],
        [
         "1",
         "2022",
         "The Batman",
         "3827.658",
         "1151",
         "popular",
         "Crime, Mystery, Thriller"
        ],
        [
         "2",
         "2022",
         "No Exit",
         "2618.087",
         "122",
         "below_avg",
         "Thriller"
        ],
        [
         "3",
         "2021",
         "Encanto",
         "2402.201",
         "5076",
         "popular",
         "Animation, Comedy, Family, Fantasy"
        ],
        [
         "4",
         "2021",
         "The King's Man",
         "1895.511",
         "1793",
         "average",
         "Action, Adventure, Thriller, War"
        ],
        [
         "5",
         "2022",
         "The Commando",
         "1750.484",
         "33",
         "average",
         "Action, Crime, Thriller"
        ],
        [
         "6",
         "2022",
         "Scream",
         "1675.161",
         "821",
         "average",
         "Horror, Mystery, Thriller"
        ],
        [
         "7",
         "2022",
         "Kimi",
         "1601.782",
         "206",
         "below_avg",
         "Thriller"
        ],
        [
         "8",
         "2022",
         "Fistful of Vengeance",
         "1594.013",
         "114",
         "not_popular",
         "Action, Crime, Fantasy"
        ],
        [
         "9",
         "2021",
         "Eternals",
         "1537.406",
         "4726",
         "popular",
         "Science Fiction"
        ],
        [
         "10",
         "2022",
         "Pursuit",
         "1500.523",
         "16",
         "not_popular",
         "Action, Crime, Thriller"
        ],
        [
         "11",
         "2021",
         "My Hero Academia: World Heroes' Mission",
         "1485.064",
         "100",
         "popular",
         "Animation, Action, Fantasy, Adventure"
        ],
        [
         "12",
         "2022",
         "Restless",
         "1468.377",
         "107",
         "not_popular",
         "Action, Thriller, Crime"
        ],
        [
         "13",
         "2021",
         "Nightmare Alley",
         "1455.144",
         "952",
         "average",
         "Crime, Drama, Thriller"
        ],
        [
         "14",
         "2022",
         "The Ice Age Adventures of Buck Wild",
         "1431.307",
         "737",
         "average",
         "Animation, Comedy, Adventure, Family"
        ],
        [
         "15",
         "2022",
         "Hotel Transylvania: Transformania",
         "1373.778",
         "288",
         "average",
         "Animation, Family, Fantasy, Comedy, Adventure"
        ],
        [
         "16",
         "2022",
         "Texas Chainsaw Massacre",
         "1312.79",
         "521",
         "not_popular",
         "Horror"
        ],
        [
         "17",
         "2022",
         "The Requin",
         "1252.317",
         "65",
         "not_popular",
         "Thriller"
        ],
        [
         "18",
         "2022",
         "Looop Lapeta",
         "1240.946",
         "31",
         "below_avg",
         "Action, Comedy, Crime"
        ],
        [
         "19",
         "2021",
         "Red Notice",
         "1178.544",
         "3193",
         "average",
         "Action, Comedy, Crime, Thriller"
        ],
        [
         "20",
         "2021",
         "Sing 2",
         "1112.9",
         "2172",
         "popular",
         "Animation, Comedy, Family, Music"
        ],
        [
         "21",
         "2022",
         "The Jack in the Box: Awakening",
         "1096.79",
         "43",
         "not_popular",
         "Horror"
        ],
        [
         "22",
         "2021",
         "Venom: Let There Be Carnage",
         "1053.615",
         "6539",
         "average",
         "Science Fiction, Action, Adventure"
        ],
        [
         "23",
         "2021",
         "The Matrix Resurrections",
         "941.024",
         "3160",
         "average",
         "Science Fiction, Action, Adventure"
        ],
        [
         "24",
         "2021",
         "Resident Evil: Welcome to Raccoon City",
         "881.086",
         "1312",
         "below_avg",
         "Horror, Action, Science Fiction"
        ],
        [
         "25",
         "2021",
         "Last Man Down",
         "869.605",
         "318",
         "below_avg",
         "Action, Thriller"
        ],
        [
         "26",
         "2022",
         "American Siege",
         "867.326",
         "49",
         "not_popular",
         "Action, Thriller, Crime, Drama"
        ],
        [
         "27",
         "2022",
         "Uncharted",
         "866.391",
         "691",
         "average",
         "Action, Adventure"
        ],
        [
         "28",
         "2020",
         "Demon Slayer -Kimetsu no Yaiba- The Movie: Mugen Train",
         "845.992",
         "2224",
         "popular",
         "Animation, Action, Adventure, Fantasy"
        ],
        [
         "29",
         "2021",
         "Ghostbusters: Afterlife",
         "839.904",
         "2225",
         "popular",
         "Fantasy, Comedy, Adventure"
        ],
        [
         "30",
         "2022",
         "The 355",
         "781.748",
         "313",
         "below_avg",
         "Action, Thriller"
        ],
        [
         "31",
         "2021",
         "Shang-Chi and the Legend of the Ten Rings",
         "769.185",
         "5845",
         "popular",
         "Action, Adventure, Fantasy"
        ],
        [
         "32",
         "2022",
         "Marry Me",
         "761.793",
         "230",
         "average",
         "Romance, Comedy, Music"
        ],
        [
         "33",
         "2022",
         "The Hunting",
         "761.127",
         "10",
         "not_popular",
         "Horror"
        ],
        [
         "34",
         "2021",
         "West Side Story",
         "678.186",
         "562",
         "popular",
         "Drama, Romance, Crime"
        ],
        [
         "35",
         "2022",
         "Through My Window",
         "659.105",
         "1331",
         "popular",
         "Romance, Drama"
        ],
        [
         "36",
         "2021",
         "The Seven Deadly Sins: Cursed by Light",
         "647.54",
         "312",
         "popular",
         "Animation, Fantasy"
        ],
        [
         "37",
         "2021",
         "One Shot",
         "622.24",
         "382",
         "average",
         "Action"
        ],
        [
         "38",
         "2022",
         "Tom and Jerry: Cowboy Up!",
         "614.11",
         "163",
         "average",
         "Animation, Comedy, Family, Western"
        ],
        [
         "39",
         "2020",
         "Chernobyl: Abyss",
         "601.958",
         "314",
         "below_avg",
         "Drama, History, Adventure"
        ],
        [
         "40",
         "2022",
         "Desperate Riders",
         "590.474",
         "10",
         "average",
         "Western, Action"
        ],
        [
         "41",
         "2021",
         "Clifford the Big Red Dog",
         "585.011",
         "1100",
         "popular",
         "Family, Adventure, Comedy, Fantasy"
        ],
        [
         "42",
         "2022",
         "Tyler Perry's A Madea Homecoming",
         "577.591",
         "42",
         "average",
         "Comedy"
        ],
        [
         "43",
         "2021",
         "The Boss Baby: Family Business",
         "567.421",
         "1785",
         "popular",
         "Animation, Comedy, Adventure, Family"
        ],
        [
         "44",
         "2022",
         "Turning Red",
         "564.507",
         "8",
         "popular",
         "Animation, Family, Comedy, Fantasy"
        ],
        [
         "45",
         "2022",
         "Brazen",
         "553.141",
         "211",
         "not_popular",
         "Thriller, Mystery, Drama"
        ],
        [
         "46",
         "2022",
         "The House",
         "551.65",
         "432",
         "average",
         "Animation, Drama, Comedy, Horror"
        ],
        [
         "47",
         "2022",
         "Blacklight",
         "533.903",
         "88",
         "not_popular",
         "Action, Thriller"
        ],
        [
         "48",
         "2021",
         "Ron's Gone Wrong",
         "509.277",
         "1000",
         "popular",
         "Animation, Science Fiction, Family, Comedy"
        ],
        [
         "49",
         "2021",
         "Free Guy",
         "447.872",
         "5158",
         "popular",
         "Comedy, Action, Adventure, Science Fiction"
        ]
       ],
       "shape": {
        "columns": 6,
        "rows": 9827
       }
      },
      "text/html": [
       "<div>\n",
       "<style scoped>\n",
       "    .dataframe tbody tr th:only-of-type {\n",
       "        vertical-align: middle;\n",
       "    }\n",
       "\n",
       "    .dataframe tbody tr th {\n",
       "        vertical-align: top;\n",
       "    }\n",
       "\n",
       "    .dataframe thead th {\n",
       "        text-align: right;\n",
       "    }\n",
       "</style>\n",
       "<table border=\"1\" class=\"dataframe\">\n",
       "  <thead>\n",
       "    <tr style=\"text-align: right;\">\n",
       "      <th></th>\n",
       "      <th>Release_Date</th>\n",
       "      <th>Title</th>\n",
       "      <th>Popularity</th>\n",
       "      <th>Vote_Count</th>\n",
       "      <th>Vote_Average</th>\n",
       "      <th>Genre</th>\n",
       "    </tr>\n",
       "  </thead>\n",
       "  <tbody>\n",
       "    <tr>\n",
       "      <th>0</th>\n",
       "      <td>2021</td>\n",
       "      <td>Spider-Man: No Way Home</td>\n",
       "      <td>5083.954</td>\n",
       "      <td>8940</td>\n",
       "      <td>popular</td>\n",
       "      <td>Action, Adventure, Science Fiction</td>\n",
       "    </tr>\n",
       "    <tr>\n",
       "      <th>1</th>\n",
       "      <td>2022</td>\n",
       "      <td>The Batman</td>\n",
       "      <td>3827.658</td>\n",
       "      <td>1151</td>\n",
       "      <td>popular</td>\n",
       "      <td>Crime, Mystery, Thriller</td>\n",
       "    </tr>\n",
       "    <tr>\n",
       "      <th>2</th>\n",
       "      <td>2022</td>\n",
       "      <td>No Exit</td>\n",
       "      <td>2618.087</td>\n",
       "      <td>122</td>\n",
       "      <td>below_avg</td>\n",
       "      <td>Thriller</td>\n",
       "    </tr>\n",
       "    <tr>\n",
       "      <th>3</th>\n",
       "      <td>2021</td>\n",
       "      <td>Encanto</td>\n",
       "      <td>2402.201</td>\n",
       "      <td>5076</td>\n",
       "      <td>popular</td>\n",
       "      <td>Animation, Comedy, Family, Fantasy</td>\n",
       "    </tr>\n",
       "    <tr>\n",
       "      <th>4</th>\n",
       "      <td>2021</td>\n",
       "      <td>The King's Man</td>\n",
       "      <td>1895.511</td>\n",
       "      <td>1793</td>\n",
       "      <td>average</td>\n",
       "      <td>Action, Adventure, Thriller, War</td>\n",
       "    </tr>\n",
       "    <tr>\n",
       "      <th>...</th>\n",
       "      <td>...</td>\n",
       "      <td>...</td>\n",
       "      <td>...</td>\n",
       "      <td>...</td>\n",
       "      <td>...</td>\n",
       "      <td>...</td>\n",
       "    </tr>\n",
       "    <tr>\n",
       "      <th>9822</th>\n",
       "      <td>1973</td>\n",
       "      <td>Badlands</td>\n",
       "      <td>13.357</td>\n",
       "      <td>896</td>\n",
       "      <td>popular</td>\n",
       "      <td>Drama, Crime</td>\n",
       "    </tr>\n",
       "    <tr>\n",
       "      <th>9823</th>\n",
       "      <td>2020</td>\n",
       "      <td>Violent Delights</td>\n",
       "      <td>13.356</td>\n",
       "      <td>8</td>\n",
       "      <td>not_popular</td>\n",
       "      <td>Horror</td>\n",
       "    </tr>\n",
       "    <tr>\n",
       "      <th>9824</th>\n",
       "      <td>2016</td>\n",
       "      <td>The Offering</td>\n",
       "      <td>13.355</td>\n",
       "      <td>94</td>\n",
       "      <td>not_popular</td>\n",
       "      <td>Mystery, Thriller, Horror</td>\n",
       "    </tr>\n",
       "    <tr>\n",
       "      <th>9825</th>\n",
       "      <td>2021</td>\n",
       "      <td>The United States vs. Billie Holiday</td>\n",
       "      <td>13.354</td>\n",
       "      <td>152</td>\n",
       "      <td>average</td>\n",
       "      <td>Music, Drama, History</td>\n",
       "    </tr>\n",
       "    <tr>\n",
       "      <th>9826</th>\n",
       "      <td>1984</td>\n",
       "      <td>Threads</td>\n",
       "      <td>13.354</td>\n",
       "      <td>186</td>\n",
       "      <td>popular</td>\n",
       "      <td>War, Drama, Science Fiction</td>\n",
       "    </tr>\n",
       "  </tbody>\n",
       "</table>\n",
       "<p>9827 rows × 6 columns</p>\n",
       "</div>"
      ],
      "text/plain": [
       "      Release_Date                                 Title  Popularity  \\\n",
       "0             2021               Spider-Man: No Way Home    5083.954   \n",
       "1             2022                            The Batman    3827.658   \n",
       "2             2022                               No Exit    2618.087   \n",
       "3             2021                               Encanto    2402.201   \n",
       "4             2021                        The King's Man    1895.511   \n",
       "...            ...                                   ...         ...   \n",
       "9822          1973                              Badlands      13.357   \n",
       "9823          2020                      Violent Delights      13.356   \n",
       "9824          2016                          The Offering      13.355   \n",
       "9825          2021  The United States vs. Billie Holiday      13.354   \n",
       "9826          1984                               Threads      13.354   \n",
       "\n",
       "      Vote_Count Vote_Average                               Genre  \n",
       "0           8940      popular  Action, Adventure, Science Fiction  \n",
       "1           1151      popular            Crime, Mystery, Thriller  \n",
       "2            122    below_avg                            Thriller  \n",
       "3           5076      popular  Animation, Comedy, Family, Fantasy  \n",
       "4           1793      average    Action, Adventure, Thriller, War  \n",
       "...          ...          ...                                 ...  \n",
       "9822         896      popular                        Drama, Crime  \n",
       "9823           8  not_popular                              Horror  \n",
       "9824          94  not_popular           Mystery, Thriller, Horror  \n",
       "9825         152      average               Music, Drama, History  \n",
       "9826         186      popular         War, Drama, Science Fiction  \n",
       "\n",
       "[9827 rows x 6 columns]"
      ]
     },
     "execution_count": 111,
     "metadata": {},
     "output_type": "execute_result"
    }
   ],
   "source": [
    "labels = ['not_popular','below_avg','average','popular']\n",
    "catigorize_col(df, 'Vote_Average', labels)\n",
    "df\n"
   ]
  },
  {
   "cell_type": "code",
   "execution_count": 112,
   "id": "b9126dac",
   "metadata": {},
   "outputs": [
    {
     "name": "stdout",
     "output_type": "stream",
     "text": [
      "Vote_Average\n",
      "not_popular    2467\n",
      "popular        2450\n",
      "average        2412\n",
      "below_avg      2398\n",
      "Name: count, dtype: int64\n"
     ]
    }
   ],
   "source": [
    "print(df['Vote_Average'].value_counts())"
   ]
  },
  {
   "cell_type": "code",
   "execution_count": 113,
   "id": "450ad81f",
   "metadata": {},
   "outputs": [
    {
     "data": {
      "application/vnd.microsoft.datawrangler.viewer.v0+json": {
       "columns": [
        {
         "name": "index",
         "rawType": "object",
         "type": "string"
        },
        {
         "name": "0",
         "rawType": "int64",
         "type": "integer"
        }
       ],
       "ref": "d0702de1-6ad4-415c-b524-c9b2e38b440f",
       "rows": [
        [
         "Release_Date",
         "0"
        ],
        [
         "Title",
         "0"
        ],
        [
         "Popularity",
         "0"
        ],
        [
         "Vote_Count",
         "0"
        ],
        [
         "Vote_Average",
         "100"
        ],
        [
         "Genre",
         "0"
        ]
       ],
       "shape": {
        "columns": 1,
        "rows": 6
       }
      },
      "text/plain": [
       "Release_Date      0\n",
       "Title             0\n",
       "Popularity        0\n",
       "Vote_Count        0\n",
       "Vote_Average    100\n",
       "Genre             0\n",
       "dtype: int64"
      ]
     },
     "execution_count": 113,
     "metadata": {},
     "output_type": "execute_result"
    }
   ],
   "source": [
    "df.isna().sum()  # there are null values in the dataset after categorization"
   ]
  },
  {
   "cell_type": "code",
   "execution_count": 114,
   "id": "8e87d723",
   "metadata": {},
   "outputs": [
    {
     "data": {
      "application/vnd.microsoft.datawrangler.viewer.v0+json": {
       "columns": [
        {
         "name": "index",
         "rawType": "object",
         "type": "string"
        },
        {
         "name": "0",
         "rawType": "int64",
         "type": "integer"
        }
       ],
       "ref": "a14e0327-dbf8-4931-80d5-f03a1f268a03",
       "rows": [
        [
         "Release_Date",
         "0"
        ],
        [
         "Title",
         "0"
        ],
        [
         "Popularity",
         "0"
        ],
        [
         "Vote_Count",
         "0"
        ],
        [
         "Vote_Average",
         "0"
        ],
        [
         "Genre",
         "0"
        ]
       ],
       "shape": {
        "columns": 1,
        "rows": 6
       }
      },
      "text/plain": [
       "Release_Date    0\n",
       "Title           0\n",
       "Popularity      0\n",
       "Vote_Count      0\n",
       "Vote_Average    0\n",
       "Genre           0\n",
       "dtype: int64"
      ]
     },
     "execution_count": 114,
     "metadata": {},
     "output_type": "execute_result"
    }
   ],
   "source": [
    "df.dropna(inplace=True)  # drop the null values\n",
    "df.isna().sum()  # now there are no null values"
   ]
  },
  {
   "cell_type": "code",
   "execution_count": 115,
   "id": "ad9f08dc",
   "metadata": {},
   "outputs": [
    {
     "data": {
      "text/plain": [
       "(9727, 6)"
      ]
     },
     "execution_count": 115,
     "metadata": {},
     "output_type": "execute_result"
    }
   ],
   "source": [
    "df.shape"
   ]
  },
  {
   "cell_type": "markdown",
   "id": "4752bc9c",
   "metadata": {},
   "source": [
    "we'd split genres into a list and then explode our dataframe to have only one genre per row for each movies"
   ]
  },
  {
   "cell_type": "code",
   "execution_count": 116,
   "id": "e7afa1f6",
   "metadata": {},
   "outputs": [
    {
     "data": {
      "application/vnd.microsoft.datawrangler.viewer.v0+json": {
       "columns": [
        {
         "name": "index",
         "rawType": "int64",
         "type": "integer"
        },
        {
         "name": "Release_Date",
         "rawType": "int32",
         "type": "integer"
        },
        {
         "name": "Title",
         "rawType": "object",
         "type": "string"
        },
        {
         "name": "Popularity",
         "rawType": "float64",
         "type": "float"
        },
        {
         "name": "Vote_Count",
         "rawType": "int64",
         "type": "integer"
        },
        {
         "name": "Vote_Average",
         "rawType": "category",
         "type": "unknown"
        },
        {
         "name": "Genre",
         "rawType": "object",
         "type": "string"
        }
       ],
       "ref": "41e4501e-0ee5-4816-b71b-c82a38a2ae80",
       "rows": [
        [
         "0",
         "2021",
         "Spider-Man: No Way Home",
         "5083.954",
         "8940",
         "popular",
         "Action"
        ],
        [
         "1",
         "2021",
         "Spider-Man: No Way Home",
         "5083.954",
         "8940",
         "popular",
         "Adventure"
        ],
        [
         "2",
         "2021",
         "Spider-Man: No Way Home",
         "5083.954",
         "8940",
         "popular",
         "Science Fiction"
        ],
        [
         "3",
         "2022",
         "The Batman",
         "3827.658",
         "1151",
         "popular",
         "Crime"
        ],
        [
         "4",
         "2022",
         "The Batman",
         "3827.658",
         "1151",
         "popular",
         "Mystery"
        ],
        [
         "5",
         "2022",
         "The Batman",
         "3827.658",
         "1151",
         "popular",
         "Thriller"
        ],
        [
         "6",
         "2022",
         "No Exit",
         "2618.087",
         "122",
         "below_avg",
         "Thriller"
        ],
        [
         "7",
         "2021",
         "Encanto",
         "2402.201",
         "5076",
         "popular",
         "Animation"
        ],
        [
         "8",
         "2021",
         "Encanto",
         "2402.201",
         "5076",
         "popular",
         "Comedy"
        ],
        [
         "9",
         "2021",
         "Encanto",
         "2402.201",
         "5076",
         "popular",
         "Family"
        ]
       ],
       "shape": {
        "columns": 6,
        "rows": 10
       }
      },
      "text/html": [
       "<div>\n",
       "<style scoped>\n",
       "    .dataframe tbody tr th:only-of-type {\n",
       "        vertical-align: middle;\n",
       "    }\n",
       "\n",
       "    .dataframe tbody tr th {\n",
       "        vertical-align: top;\n",
       "    }\n",
       "\n",
       "    .dataframe thead th {\n",
       "        text-align: right;\n",
       "    }\n",
       "</style>\n",
       "<table border=\"1\" class=\"dataframe\">\n",
       "  <thead>\n",
       "    <tr style=\"text-align: right;\">\n",
       "      <th></th>\n",
       "      <th>Release_Date</th>\n",
       "      <th>Title</th>\n",
       "      <th>Popularity</th>\n",
       "      <th>Vote_Count</th>\n",
       "      <th>Vote_Average</th>\n",
       "      <th>Genre</th>\n",
       "    </tr>\n",
       "  </thead>\n",
       "  <tbody>\n",
       "    <tr>\n",
       "      <th>0</th>\n",
       "      <td>2021</td>\n",
       "      <td>Spider-Man: No Way Home</td>\n",
       "      <td>5083.954</td>\n",
       "      <td>8940</td>\n",
       "      <td>popular</td>\n",
       "      <td>Action</td>\n",
       "    </tr>\n",
       "    <tr>\n",
       "      <th>1</th>\n",
       "      <td>2021</td>\n",
       "      <td>Spider-Man: No Way Home</td>\n",
       "      <td>5083.954</td>\n",
       "      <td>8940</td>\n",
       "      <td>popular</td>\n",
       "      <td>Adventure</td>\n",
       "    </tr>\n",
       "    <tr>\n",
       "      <th>2</th>\n",
       "      <td>2021</td>\n",
       "      <td>Spider-Man: No Way Home</td>\n",
       "      <td>5083.954</td>\n",
       "      <td>8940</td>\n",
       "      <td>popular</td>\n",
       "      <td>Science Fiction</td>\n",
       "    </tr>\n",
       "    <tr>\n",
       "      <th>3</th>\n",
       "      <td>2022</td>\n",
       "      <td>The Batman</td>\n",
       "      <td>3827.658</td>\n",
       "      <td>1151</td>\n",
       "      <td>popular</td>\n",
       "      <td>Crime</td>\n",
       "    </tr>\n",
       "    <tr>\n",
       "      <th>4</th>\n",
       "      <td>2022</td>\n",
       "      <td>The Batman</td>\n",
       "      <td>3827.658</td>\n",
       "      <td>1151</td>\n",
       "      <td>popular</td>\n",
       "      <td>Mystery</td>\n",
       "    </tr>\n",
       "    <tr>\n",
       "      <th>5</th>\n",
       "      <td>2022</td>\n",
       "      <td>The Batman</td>\n",
       "      <td>3827.658</td>\n",
       "      <td>1151</td>\n",
       "      <td>popular</td>\n",
       "      <td>Thriller</td>\n",
       "    </tr>\n",
       "    <tr>\n",
       "      <th>6</th>\n",
       "      <td>2022</td>\n",
       "      <td>No Exit</td>\n",
       "      <td>2618.087</td>\n",
       "      <td>122</td>\n",
       "      <td>below_avg</td>\n",
       "      <td>Thriller</td>\n",
       "    </tr>\n",
       "    <tr>\n",
       "      <th>7</th>\n",
       "      <td>2021</td>\n",
       "      <td>Encanto</td>\n",
       "      <td>2402.201</td>\n",
       "      <td>5076</td>\n",
       "      <td>popular</td>\n",
       "      <td>Animation</td>\n",
       "    </tr>\n",
       "    <tr>\n",
       "      <th>8</th>\n",
       "      <td>2021</td>\n",
       "      <td>Encanto</td>\n",
       "      <td>2402.201</td>\n",
       "      <td>5076</td>\n",
       "      <td>popular</td>\n",
       "      <td>Comedy</td>\n",
       "    </tr>\n",
       "    <tr>\n",
       "      <th>9</th>\n",
       "      <td>2021</td>\n",
       "      <td>Encanto</td>\n",
       "      <td>2402.201</td>\n",
       "      <td>5076</td>\n",
       "      <td>popular</td>\n",
       "      <td>Family</td>\n",
       "    </tr>\n",
       "  </tbody>\n",
       "</table>\n",
       "</div>"
      ],
      "text/plain": [
       "   Release_Date                    Title  Popularity  Vote_Count Vote_Average  \\\n",
       "0          2021  Spider-Man: No Way Home    5083.954        8940      popular   \n",
       "1          2021  Spider-Man: No Way Home    5083.954        8940      popular   \n",
       "2          2021  Spider-Man: No Way Home    5083.954        8940      popular   \n",
       "3          2022               The Batman    3827.658        1151      popular   \n",
       "4          2022               The Batman    3827.658        1151      popular   \n",
       "5          2022               The Batman    3827.658        1151      popular   \n",
       "6          2022                  No Exit    2618.087         122    below_avg   \n",
       "7          2021                  Encanto    2402.201        5076      popular   \n",
       "8          2021                  Encanto    2402.201        5076      popular   \n",
       "9          2021                  Encanto    2402.201        5076      popular   \n",
       "\n",
       "             Genre  \n",
       "0           Action  \n",
       "1        Adventure  \n",
       "2  Science Fiction  \n",
       "3            Crime  \n",
       "4          Mystery  \n",
       "5         Thriller  \n",
       "6         Thriller  \n",
       "7        Animation  \n",
       "8           Comedy  \n",
       "9           Family  "
      ]
     },
     "execution_count": 116,
     "metadata": {},
     "output_type": "execute_result"
    }
   ],
   "source": [
    "df['Genre'] = df['Genre'].str.split(', ')\n",
    "# Explode the 'Genre' column to have one genre per row\n",
    "df = df.explode('Genre').reset_index(drop=True)\n",
    "df.head(10)\n"
   ]
  },
  {
   "cell_type": "code",
   "execution_count": 117,
   "id": "80675889",
   "metadata": {},
   "outputs": [
    {
     "data": {
      "text/plain": [
       "(25552, 6)"
      ]
     },
     "execution_count": 117,
     "metadata": {},
     "output_type": "execute_result"
    }
   ],
   "source": [
    "df.shape    "
   ]
  },
  {
   "cell_type": "code",
   "execution_count": 118,
   "id": "6ae0caa7",
   "metadata": {},
   "outputs": [
    {
     "data": {
      "text/plain": [
       "CategoricalDtype(categories=['Action', 'Adventure', 'Animation', 'Comedy', 'Crime',\n",
       "                  'Documentary', 'Drama', 'Family', 'Fantasy', 'History',\n",
       "                  'Horror', 'Music', 'Mystery', 'Romance', 'Science Fiction',\n",
       "                  'TV Movie', 'Thriller', 'War', 'Western'],\n",
       ", ordered=False, categories_dtype=object)"
      ]
     },
     "execution_count": 118,
     "metadata": {},
     "output_type": "execute_result"
    }
   ],
   "source": [
    "# casting column into category\n",
    "df['Genre'] = df['Genre'].astype('category')\n",
    "# confirming changes\n",
    "df['Genre'].dtypes\n"
   ]
  },
  {
   "cell_type": "code",
   "execution_count": 119,
   "id": "5cbfca25",
   "metadata": {},
   "outputs": [
    {
     "name": "stdout",
     "output_type": "stream",
     "text": [
      "<class 'pandas.core.frame.DataFrame'>\n",
      "RangeIndex: 25552 entries, 0 to 25551\n",
      "Data columns (total 6 columns):\n",
      " #   Column        Non-Null Count  Dtype   \n",
      "---  ------        --------------  -----   \n",
      " 0   Release_Date  25552 non-null  int32   \n",
      " 1   Title         25552 non-null  object  \n",
      " 2   Popularity    25552 non-null  float64 \n",
      " 3   Vote_Count    25552 non-null  int64   \n",
      " 4   Vote_Average  25552 non-null  category\n",
      " 5   Genre         25552 non-null  category\n",
      "dtypes: category(2), float64(1), int32(1), int64(1), object(1)\n",
      "memory usage: 749.6+ KB\n"
     ]
    }
   ],
   "source": [
    "df.info()"
   ]
  },
  {
   "cell_type": "code",
   "execution_count": 120,
   "id": "24d945f9",
   "metadata": {},
   "outputs": [
    {
     "name": "stdout",
     "output_type": "stream",
     "text": [
      "Release_Date     100\n",
      "Title           9415\n",
      "Popularity      8088\n",
      "Vote_Count      3265\n",
      "Vote_Average       4\n",
      "Genre             19\n",
      "dtype: int64\n"
     ]
    }
   ],
   "source": [
    "print(df.nunique())"
   ]
  },
  {
   "cell_type": "markdown",
   "id": "78f5cd65",
   "metadata": {},
   "source": [
    "## Data Visualizations."
   ]
  },
  {
   "cell_type": "markdown",
   "id": "c6be949a",
   "metadata": {},
   "source": [
    "1. What is the most frequent genre of movies released on Nitflix."
   ]
  },
  {
   "cell_type": "code",
   "execution_count": 121,
   "id": "f8467cb7",
   "metadata": {},
   "outputs": [
    {
     "name": "stdout",
     "output_type": "stream",
     "text": [
      "count     25552\n",
      "unique       19\n",
      "top       Drama\n",
      "freq       3715\n",
      "Name: Genre, dtype: object\n"
     ]
    }
   ],
   "source": [
    "print(df['Genre'].describe())"
   ]
  },
  {
   "cell_type": "code",
   "execution_count": null,
   "id": "214ab29b",
   "metadata": {},
   "outputs": [
    {
     "data": {
      "image/png": "[encoded data removed]",
      "text/plain": [
       "<Figure size 511.111x500 with 1 Axes>"
      ]
     },
     "metadata": {},
     "output_type": "display_data"
    }
   ],
   "source": [
    "sns.set_style('whitegrid')\n",
    "sns.catplot(data = df, y = 'Genre', kind= 'count',order = df['Genre'].value_counts().index, color = '#4287f5')\n",
    "plt.title('Genre column distribution')\n",
    "plt.show() "
   ]
  },
  {
   "cell_type": "markdown",
   "id": "b62b00e3",
   "metadata": {},
   "source": [
    "2. which has highest votes in vote avg column? "
   ]
  },
  {
   "cell_type": "code",
   "execution_count": null,
   "id": "0f109c48",
   "metadata": {},
   "outputs": [
    {
     "data": {
      "image/png": "[encoded data removed]",
      "text/plain": [
       "<Figure size 511.111x500 with 1 Axes>"
      ]
     },
     "metadata": {},
     "output_type": "display_data"
    }
   ],
   "source": [
    "sns.catplot(data = df, y = 'Vote_Average', kind= 'count', order = df['Vote_Average'].value_counts().index, color = '#f54242')\n",
    "plt.title('Vote Average column distribution')\n",
    "plt.show()"
   ]
  },
  {
   "cell_type": "markdown",
   "id": "848fe288",
   "metadata": {},
   "source": [
    "3. what movie got the highest popularity? what it's genre?"
   ]
  },
  {
   "cell_type": "code",
   "execution_count": 141,
   "id": "3ca8d9c9",
   "metadata": {},
   "outputs": [
    {
     "data": {
      "application/vnd.microsoft.datawrangler.viewer.v0+json": {
       "columns": [
        {
         "name": "index",
         "rawType": "int64",
         "type": "integer"
        },
        {
         "name": "Title",
         "rawType": "object",
         "type": "string"
        },
        {
         "name": "Popularity",
         "rawType": "float64",
         "type": "float"
        },
        {
         "name": "Genre",
         "rawType": "category",
         "type": "unknown"
        }
       ],
       "ref": "73a106e9-d73c-491c-931b-04774d485ac7",
       "rows": [
        [
         "0",
         "Spider-Man: No Way Home",
         "5083.954",
         "Action"
        ],
        [
         "1",
         "Spider-Man: No Way Home",
         "5083.954",
         "Adventure"
        ],
        [
         "2",
         "Spider-Man: No Way Home",
         "5083.954",
         "Science Fiction"
        ]
       ],
       "shape": {
        "columns": 3,
        "rows": 3
       }
      },
      "text/html": [
       "<div>\n",
       "<style scoped>\n",
       "    .dataframe tbody tr th:only-of-type {\n",
       "        vertical-align: middle;\n",
       "    }\n",
       "\n",
       "    .dataframe tbody tr th {\n",
       "        vertical-align: top;\n",
       "    }\n",
       "\n",
       "    .dataframe thead th {\n",
       "        text-align: right;\n",
       "    }\n",
       "</style>\n",
       "<table border=\"1\" class=\"dataframe\">\n",
       "  <thead>\n",
       "    <tr style=\"text-align: right;\">\n",
       "      <th></th>\n",
       "      <th>Title</th>\n",
       "      <th>Popularity</th>\n",
       "      <th>Genre</th>\n",
       "    </tr>\n",
       "  </thead>\n",
       "  <tbody>\n",
       "    <tr>\n",
       "      <th>0</th>\n",
       "      <td>Spider-Man: No Way Home</td>\n",
       "      <td>5083.954</td>\n",
       "      <td>Action</td>\n",
       "    </tr>\n",
       "    <tr>\n",
       "      <th>1</th>\n",
       "      <td>Spider-Man: No Way Home</td>\n",
       "      <td>5083.954</td>\n",
       "      <td>Adventure</td>\n",
       "    </tr>\n",
       "    <tr>\n",
       "      <th>2</th>\n",
       "      <td>Spider-Man: No Way Home</td>\n",
       "      <td>5083.954</td>\n",
       "      <td>Science Fiction</td>\n",
       "    </tr>\n",
       "  </tbody>\n",
       "</table>\n",
       "</div>"
      ],
      "text/plain": [
       "                     Title  Popularity            Genre\n",
       "0  Spider-Man: No Way Home    5083.954           Action\n",
       "1  Spider-Man: No Way Home    5083.954        Adventure\n",
       "2  Spider-Man: No Way Home    5083.954  Science Fiction"
      ]
     },
     "execution_count": 141,
     "metadata": {},
     "output_type": "execute_result"
    }
   ],
   "source": [
    "df[df['Popularity'] == df['Popularity'].max()][['Title', 'Popularity','Genre']]"
   ]
  },
  {
   "cell_type": "markdown",
   "id": "3457e0bd",
   "metadata": {},
   "source": [
    "4. what movie got the lowest popularity? what its genre?"
   ]
  },
  {
   "cell_type": "code",
   "execution_count": 142,
   "id": "875da019",
   "metadata": {},
   "outputs": [
    {
     "data": {
      "application/vnd.microsoft.datawrangler.viewer.v0+json": {
       "columns": [
        {
         "name": "index",
         "rawType": "int64",
         "type": "integer"
        },
        {
         "name": "Title",
         "rawType": "object",
         "type": "string"
        },
        {
         "name": "Popularity",
         "rawType": "float64",
         "type": "float"
        },
        {
         "name": "Genre",
         "rawType": "category",
         "type": "unknown"
        }
       ],
       "ref": "74111c79-cbd0-46a2-8895-e5226f709cc4",
       "rows": [
        [
         "25546",
         "The United States vs. Billie Holiday",
         "13.354",
         "Music"
        ],
        [
         "25547",
         "The United States vs. Billie Holiday",
         "13.354",
         "Drama"
        ],
        [
         "25548",
         "The United States vs. Billie Holiday",
         "13.354",
         "History"
        ],
        [
         "25549",
         "Threads",
         "13.354",
         "War"
        ],
        [
         "25550",
         "Threads",
         "13.354",
         "Drama"
        ],
        [
         "25551",
         "Threads",
         "13.354",
         "Science Fiction"
        ]
       ],
       "shape": {
        "columns": 3,
        "rows": 6
       }
      },
      "text/html": [
       "<div>\n",
       "<style scoped>\n",
       "    .dataframe tbody tr th:only-of-type {\n",
       "        vertical-align: middle;\n",
       "    }\n",
       "\n",
       "    .dataframe tbody tr th {\n",
       "        vertical-align: top;\n",
       "    }\n",
       "\n",
       "    .dataframe thead th {\n",
       "        text-align: right;\n",
       "    }\n",
       "</style>\n",
       "<table border=\"1\" class=\"dataframe\">\n",
       "  <thead>\n",
       "    <tr style=\"text-align: right;\">\n",
       "      <th></th>\n",
       "      <th>Title</th>\n",
       "      <th>Popularity</th>\n",
       "      <th>Genre</th>\n",
       "    </tr>\n",
       "  </thead>\n",
       "  <tbody>\n",
       "    <tr>\n",
       "      <th>25546</th>\n",
       "      <td>The United States vs. Billie Holiday</td>\n",
       "      <td>13.354</td>\n",
       "      <td>Music</td>\n",
       "    </tr>\n",
       "    <tr>\n",
       "      <th>25547</th>\n",
       "      <td>The United States vs. Billie Holiday</td>\n",
       "      <td>13.354</td>\n",
       "      <td>Drama</td>\n",
       "    </tr>\n",
       "    <tr>\n",
       "      <th>25548</th>\n",
       "      <td>The United States vs. Billie Holiday</td>\n",
       "      <td>13.354</td>\n",
       "      <td>History</td>\n",
       "    </tr>\n",
       "    <tr>\n",
       "      <th>25549</th>\n",
       "      <td>Threads</td>\n",
       "      <td>13.354</td>\n",
       "      <td>War</td>\n",
       "    </tr>\n",
       "    <tr>\n",
       "      <th>25550</th>\n",
       "      <td>Threads</td>\n",
       "      <td>13.354</td>\n",
       "      <td>Drama</td>\n",
       "    </tr>\n",
       "    <tr>\n",
       "      <th>25551</th>\n",
       "      <td>Threads</td>\n",
       "      <td>13.354</td>\n",
       "      <td>Science Fiction</td>\n",
       "    </tr>\n",
       "  </tbody>\n",
       "</table>\n",
       "</div>"
      ],
      "text/plain": [
       "                                      Title  Popularity            Genre\n",
       "25546  The United States vs. Billie Holiday      13.354            Music\n",
       "25547  The United States vs. Billie Holiday      13.354            Drama\n",
       "25548  The United States vs. Billie Holiday      13.354          History\n",
       "25549                               Threads      13.354              War\n",
       "25550                               Threads      13.354            Drama\n",
       "25551                               Threads      13.354  Science Fiction"
      ]
     },
     "execution_count": 142,
     "metadata": {},
     "output_type": "execute_result"
    }
   ],
   "source": [
    "df[df['Popularity'] == df['Popularity'].min()][['Title', 'Popularity','Genre']]"
   ]
  },
  {
   "cell_type": "markdown",
   "id": "9dc6072d",
   "metadata": {},
   "source": [
    "5. which year has the most filmmed movies?"
   ]
  },
  {
   "cell_type": "code",
   "execution_count": 153,
   "id": "7e988b54",
   "metadata": {},
   "outputs": [
    {
     "name": "stdout",
     "output_type": "stream",
     "text": [
      "Release_Date\n",
      "2021    1636\n",
      "2018    1384\n",
      "2017    1365\n",
      "2019    1271\n",
      "2016    1209\n",
      "2020    1121\n",
      "2015    1015\n",
      "2014     922\n",
      "2013     877\n",
      "2011     855\n",
      "Name: Release_Date, dtype: int64\n"
     ]
    }
   ],
   "source": [
    "print(df.groupby('Release_Date')['Release_Date'].count().sort_values(ascending=False).head(10))"
   ]
  },
  {
   "cell_type": "code",
   "execution_count": 152,
   "id": "3fa9f28a",
   "metadata": {},
   "outputs": [
    {
     "data": {
      "image/png": "[encoded data removed]",
      "text/plain": [
       "<Figure size 640x480 with 1 Axes>"
      ]
     },
     "metadata": {},
     "output_type": "display_data"
    }
   ],
   "source": [
    "df['Release_Date'].hist()\n",
    "plt.title('Release Date Distribution')\n",
    "plt.show()"
   ]
  },
  {
   "cell_type": "markdown",
   "id": "1497087d",
   "metadata": {},
   "source": [
    "## Conclusion\n",
    "#### Q1: What is the most frequent genre in the dataset?\n",
    "    Drama genre is the most frequent genre in our dataset and has appeared more than\n",
    "    14% of the times among 19 other genres.\n",
    "\n",
    "#### Q2: What genres has highest votes ?\n",
    "    we have 25.5% of our dataset with popular vote (6520 rows). Drama again gets the\n",
    "    highest popularity among fans by being having more than 18.5% of movies popularities.\n",
    "\n",
    "#### Q3: What movie got the highest popularity ? what's its genre ?\n",
    "    Spider-Man: No Way Home has the highest popularity rate in our dataset and it has\n",
    "    genres of Action , Adventure and Sience Fiction.***\n",
    "\n",
    "#### Q4: What movie got the lowest popularity ? what's its genre ?\n",
    "    The united states, thread' has the highest lowest rate in our dataset\n",
    "    and it has genres of music , drama , 'war', 'sci-fi' and history`.\n",
    "\n",
    "#### Q5: Which year has the most filmmed movies?\n",
    "    year 2020 has the highest filmming rate in our dataset"
   ]
  },
  {
   "cell_type": "code",
   "execution_count": null,
   "id": "df4b55c5",
   "metadata": {},
   "outputs": [],
   "source": []
  }
 ],
 "metadata": {
  "kernelspec": {
   "display_name": "Python 3",
   "language": "python",
   "name": "python3"
  },
  "language_info": {
   "codemirror_mode": {
    "name": "ipython",
    "version": 3
   },
   "file_extension": ".py",
   "mimetype": "text/x-python",
   "name": "python",
   "nbconvert_exporter": "python",
   "pygments_lexer": "ipython3",
   "version": "3.12.5"
  }
 },
 "nbformat": 4,
 "nbformat_minor": 5
}
